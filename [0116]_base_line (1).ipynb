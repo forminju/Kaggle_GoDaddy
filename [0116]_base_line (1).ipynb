{
  "metadata": {
    "kernelspec": {
      "language": "python",
      "display_name": "Python 3",
      "name": "python3"
    },
    "language_info": {
      "name": "python",
      "version": "3.7.12",
      "mimetype": "text/x-python",
      "codemirror_mode": {
        "name": "ipython",
        "version": 3
      },
      "pygments_lexer": "ipython3",
      "nbconvert_exporter": "python",
      "file_extension": ".py"
    },
    "colab": {
      "provenance": [],
      "toc_visible": true
    }
  },
  "nbformat_minor": 0,
  "nbformat": 4,
  "cells": [
    {
      "cell_type": "markdown",
      "source": [
        "# Data & Package Import"
      ],
      "metadata": {
        "id": "xC1LZzaPzgz8"
      }
    },
    {
      "cell_type": "code",
      "source": [
        "from google.colab import drive\n",
        "drive.mount('/content/drive')"
      ],
      "metadata": {
        "colab": {
          "base_uri": "https://localhost:8080/"
        },
        "id": "2aOVyxb7z3mM",
        "outputId": "65cfb38a-1b42-405c-cbd7-24a03417ea41"
      },
      "execution_count": 5,
      "outputs": [
        {
          "output_type": "stream",
          "name": "stdout",
          "text": [
            "Mounted at /content/drive\n"
          ]
        }
      ]
    },
    {
      "cell_type": "code",
      "source": [
        "%cd /content/drive/MyDrive/비타민복프"
      ],
      "metadata": {
        "colab": {
          "base_uri": "https://localhost:8080/"
        },
        "id": "7vS3An77z6wG",
        "outputId": "8789a7a3-3020-4782-f4bf-3966671aa67f"
      },
      "execution_count": 6,
      "outputs": [
        {
          "output_type": "stream",
          "name": "stdout",
          "text": [
            "/content/drive/MyDrive/비타민복프\n"
          ]
        }
      ]
    },
    {
      "cell_type": "code",
      "source": [
        "# This Python 3 environment comes with many helpful analytics libraries installed\n",
        "# It is defined by the kaggle/python Docker image: https://github.com/kaggle/docker-python\n",
        "# For example, here's several helpful packages to load\n",
        "\n",
        "import numpy as np # linear algebra\n",
        "import pandas as pd # data processing, CSV file I/O (e.g. pd.read_csv)\n",
        "\n",
        "# Input data files are available in the read-only \"../input/\" directory\n",
        "# For example, running this (by clicking run or pressing Shift+Enter) will list all files under the input directory\n",
        "\n",
        "import os\n",
        "for dirname, _, filenames in os.walk('/kaggle/input'):\n",
        "    for filename in filenames:\n",
        "        print(os.path.join(dirname, filename))\n",
        "\n",
        "# You can write up to 20GB to the current directory (/kaggle/working/) that gets preserved as output when you create a version using \"Save & Run All\" \n",
        "# You can also write temporary files to /kaggle/temp/, but they won't be saved outside of the current session"
      ],
      "metadata": {
        "_uuid": "8f2839f25d086af736a60e9eeb907d3b93b6e0e5",
        "_cell_guid": "b1076dfc-b9ad-4769-8c92-a6c4dae69d19",
        "execution": {
          "iopub.status.busy": "2023-01-14T05:49:23.029071Z",
          "iopub.execute_input": "2023-01-14T05:49:23.030132Z",
          "iopub.status.idle": "2023-01-14T05:49:23.039036Z",
          "shell.execute_reply.started": "2023-01-14T05:49:23.030083Z",
          "shell.execute_reply": "2023-01-14T05:49:23.037898Z"
        },
        "trusted": true,
        "id": "FRehe299zb5V"
      },
      "execution_count": 1,
      "outputs": []
    },
    {
      "cell_type": "code",
      "source": [
        "# 데이터 시각화 위한 패키지\n",
        "!pip install plotly-geo\n",
        "!pip install pyshp\n",
        "!pip install geopandas"
      ],
      "metadata": {
        "execution": {
          "iopub.status.busy": "2023-01-14T00:03:01.937497Z",
          "iopub.execute_input": "2023-01-14T00:03:01.938384Z",
          "iopub.status.idle": "2023-01-14T00:03:40.365352Z",
          "shell.execute_reply.started": "2023-01-14T00:03:01.938273Z",
          "shell.execute_reply": "2023-01-14T00:03:40.363640Z"
        },
        "trusted": true,
        "colab": {
          "base_uri": "https://localhost:8080/"
        },
        "id": "RJElbx1Uzb5a",
        "outputId": "ed644e8d-6ee6-44d2-a183-c734b40fa929"
      },
      "execution_count": 2,
      "outputs": [
        {
          "output_type": "stream",
          "name": "stdout",
          "text": [
            "Looking in indexes: https://pypi.org/simple, https://us-python.pkg.dev/colab-wheels/public/simple/\n",
            "Collecting plotly-geo\n",
            "  Downloading plotly_geo-1.0.0-py3-none-any.whl (23.7 MB)\n",
            "\u001b[2K     \u001b[90m━━━━━━━━━━━━━━━━━━━━━━━━━━━━━━━━━━━━━━━━\u001b[0m \u001b[32m23.7/23.7 MB\u001b[0m \u001b[31m28.0 MB/s\u001b[0m eta \u001b[36m0:00:00\u001b[0m\n",
            "\u001b[?25hInstalling collected packages: plotly-geo\n",
            "Successfully installed plotly-geo-1.0.0\n",
            "Looking in indexes: https://pypi.org/simple, https://us-python.pkg.dev/colab-wheels/public/simple/\n",
            "Collecting pyshp\n",
            "  Downloading pyshp-2.3.1-py2.py3-none-any.whl (46 kB)\n",
            "\u001b[2K     \u001b[90m━━━━━━━━━━━━━━━━━━━━━━━━━━━━━━━━━━━━━━━\u001b[0m \u001b[32m46.5/46.5 KB\u001b[0m \u001b[31m435.8 kB/s\u001b[0m eta \u001b[36m0:00:00\u001b[0m\n",
            "\u001b[?25hInstalling collected packages: pyshp\n",
            "Successfully installed pyshp-2.3.1\n",
            "Looking in indexes: https://pypi.org/simple, https://us-python.pkg.dev/colab-wheels/public/simple/\n",
            "Collecting geopandas\n",
            "  Downloading geopandas-0.12.2-py3-none-any.whl (1.1 MB)\n",
            "\u001b[2K     \u001b[90m━━━━━━━━━━━━━━━━━━━━━━━━━━━━━━━━━━━━━━━━\u001b[0m \u001b[32m1.1/1.1 MB\u001b[0m \u001b[31m8.5 MB/s\u001b[0m eta \u001b[36m0:00:00\u001b[0m\n",
            "\u001b[?25hRequirement already satisfied: shapely>=1.7 in /usr/local/lib/python3.8/dist-packages (from geopandas) (2.0.0)\n",
            "Requirement already satisfied: pandas>=1.0.0 in /usr/local/lib/python3.8/dist-packages (from geopandas) (1.3.5)\n",
            "Collecting pyproj>=2.6.1.post1\n",
            "  Downloading pyproj-3.4.1-cp38-cp38-manylinux_2_17_x86_64.manylinux2014_x86_64.whl (7.8 MB)\n",
            "\u001b[2K     \u001b[90m━━━━━━━━━━━━━━━━━━━━━━━━━━━━━━━━━━━━━━━━\u001b[0m \u001b[32m7.8/7.8 MB\u001b[0m \u001b[31m20.1 MB/s\u001b[0m eta \u001b[36m0:00:00\u001b[0m\n",
            "\u001b[?25hRequirement already satisfied: packaging in /usr/local/lib/python3.8/dist-packages (from geopandas) (21.3)\n",
            "Collecting fiona>=1.8\n",
            "  Downloading Fiona-1.8.22-cp38-cp38-manylinux_2_17_x86_64.manylinux2014_x86_64.whl (16.6 MB)\n",
            "\u001b[2K     \u001b[90m━━━━━━━━━━━━━━━━━━━━━━━━━━━━━━━━━━━━━━━━\u001b[0m \u001b[32m16.6/16.6 MB\u001b[0m \u001b[31m23.1 MB/s\u001b[0m eta \u001b[36m0:00:00\u001b[0m\n",
            "\u001b[?25hCollecting click-plugins>=1.0\n",
            "  Downloading click_plugins-1.1.1-py2.py3-none-any.whl (7.5 kB)\n",
            "Collecting cligj>=0.5\n",
            "  Downloading cligj-0.7.2-py3-none-any.whl (7.1 kB)\n",
            "Requirement already satisfied: certifi in /usr/local/lib/python3.8/dist-packages (from fiona>=1.8->geopandas) (2022.12.7)\n",
            "Requirement already satisfied: attrs>=17 in /usr/local/lib/python3.8/dist-packages (from fiona>=1.8->geopandas) (22.2.0)\n",
            "Requirement already satisfied: six>=1.7 in /usr/local/lib/python3.8/dist-packages (from fiona>=1.8->geopandas) (1.15.0)\n",
            "Requirement already satisfied: setuptools in /usr/local/lib/python3.8/dist-packages (from fiona>=1.8->geopandas) (57.4.0)\n",
            "Requirement already satisfied: click>=4.0 in /usr/local/lib/python3.8/dist-packages (from fiona>=1.8->geopandas) (7.1.2)\n",
            "Collecting munch\n",
            "  Downloading munch-2.5.0-py2.py3-none-any.whl (10 kB)\n",
            "Requirement already satisfied: pytz>=2017.3 in /usr/local/lib/python3.8/dist-packages (from pandas>=1.0.0->geopandas) (2022.7)\n",
            "Requirement already satisfied: python-dateutil>=2.7.3 in /usr/local/lib/python3.8/dist-packages (from pandas>=1.0.0->geopandas) (2.8.2)\n",
            "Requirement already satisfied: numpy>=1.17.3 in /usr/local/lib/python3.8/dist-packages (from pandas>=1.0.0->geopandas) (1.21.6)\n",
            "Requirement already satisfied: pyparsing!=3.0.5,>=2.0.2 in /usr/local/lib/python3.8/dist-packages (from packaging->geopandas) (3.0.9)\n",
            "Installing collected packages: pyproj, munch, cligj, click-plugins, fiona, geopandas\n",
            "Successfully installed click-plugins-1.1.1 cligj-0.7.2 fiona-1.8.22 geopandas-0.12.2 munch-2.5.0 pyproj-3.4.1\n"
          ]
        }
      ]
    },
    {
      "cell_type": "code",
      "source": [
        "# import libraries\n",
        "import pandas as pd\n",
        "import matplotlib.pyplot as plt\n",
        "import numpy as np\n",
        "pd.set_option('display.max_columns', 500)\n",
        "\n",
        "import plotly.figure_factory as ff\n",
        "import geopandas\n",
        "import shapely\n",
        "import warnings\n",
        "warnings.filterwarnings(\"ignore\")\n",
        "import pandas as pd\n",
        "import numpy as np\n",
        "import seaborn as sns\n",
        "from tqdm import tqdm\n",
        "from sklearn.linear_model import LinearRegression, ElasticNet, Lasso, Ridge\n",
        "from sklearn.tree import DecisionTreeRegressor\n",
        "from sklearn.ensemble import RandomForestRegressor\n",
        "from sklearn.preprocessing import  LabelEncoder\n",
        "from sklearn.model_selection import TimeSeriesSplit\n",
        "from sklearn.metrics import mean_squared_error\n",
        "import xgboost as xgb\n",
        "import lightgbm as lgb\n",
        "\n",
        "from sklearn.model_selection import TimeSeriesSplit"
      ],
      "metadata": {
        "execution": {
          "iopub.status.busy": "2023-01-14T05:49:36.750534Z",
          "iopub.execute_input": "2023-01-14T05:49:36.751211Z",
          "iopub.status.idle": "2023-01-14T05:49:39.988965Z",
          "shell.execute_reply.started": "2023-01-14T05:49:36.751155Z",
          "shell.execute_reply": "2023-01-14T05:49:39.988087Z"
        },
        "trusted": true,
        "id": "m7cvrqsmzb5b"
      },
      "execution_count": 3,
      "outputs": []
    },
    {
      "cell_type": "code",
      "source": [
        "# load dataset\n",
        "\n",
        "df_train = pd.read_csv('train.csv')\n",
        "df_test = pd.read_csv('test.csv')\n",
        "df_census = pd.read_csv('census_starter.csv')"
      ],
      "metadata": {
        "execution": {
          "iopub.status.busy": "2023-01-14T05:49:42.517445Z",
          "iopub.execute_input": "2023-01-14T05:49:42.518396Z",
          "iopub.status.idle": "2023-01-14T05:49:42.946259Z",
          "shell.execute_reply.started": "2023-01-14T05:49:42.518358Z",
          "shell.execute_reply": "2023-01-14T05:49:42.945389Z"
        },
        "trusted": true,
        "id": "mr2_Jk--zb5c"
      },
      "execution_count": 7,
      "outputs": []
    },
    {
      "cell_type": "markdown",
      "source": [
        "# feature engineering\n",
        "\n",
        "- census dataset\n",
        "  - pctbb[year] : 브로드밴드를 설치한 가구의 비율 / 나라별\n",
        "  - pctcollege[year] - 4년제 대학 학위 가진 25세 이상 인구비율\n",
        "  - pct_foreignborn[year] - US에서 태어나지 않은 인구비율\n",
        "  - pct_itworkers[year] - 정보관련 산업에 종사하는 비율\n",
        "  - median_hhinc[year] - 중위 가구 소득"
      ],
      "metadata": {
        "_kg_hide-output": true,
        "id": "byQihQHezb5d"
      }
    },
    {
      "cell_type": "code",
      "source": [
        "# combine train and testset\n",
        "df_train['dataset'] = 'train'\n",
        "df_test['dataset'] = 'test'\n",
        "df = pd.concat((df_train, df_test)).sort_values('row_id').reset_index(drop=True)"
      ],
      "metadata": {
        "execution": {
          "iopub.status.busy": "2023-01-14T05:49:49.115541Z",
          "iopub.execute_input": "2023-01-14T05:49:49.115926Z",
          "iopub.status.idle": "2023-01-14T05:49:49.332955Z",
          "shell.execute_reply.started": "2023-01-14T05:49:49.115892Z",
          "shell.execute_reply": "2023-01-14T05:49:49.332077Z"
        },
        "trusted": true,
        "id": "y1FWf0Buzb5g"
      },
      "execution_count": 8,
      "outputs": []
    },
    {
      "cell_type": "code",
      "source": [
        "# merge census data with train-test dataset. \n",
        "df_all = df.merge(df_census, on = 'cfips', how='left')"
      ],
      "metadata": {
        "execution": {
          "iopub.status.busy": "2023-01-14T05:49:54.290842Z",
          "iopub.execute_input": "2023-01-14T05:49:54.291756Z",
          "iopub.status.idle": "2023-01-14T05:49:54.429569Z",
          "shell.execute_reply.started": "2023-01-14T05:49:54.291716Z",
          "shell.execute_reply": "2023-01-14T05:49:54.428449Z"
        },
        "trusted": true,
        "id": "PVxIMgplzb5h"
      },
      "execution_count": 9,
      "outputs": []
    },
    {
      "cell_type": "code",
      "source": [
        "df_all['first_day_of_month'] = pd.to_datetime(df_all[\"first_day_of_month\"])\n",
        "df_all[\"year\"] = df_all[\"first_day_of_month\"].dt.year\n",
        "df_all['month'] = df_all[\"first_day_of_month\"].dt.month"
      ],
      "metadata": {
        "execution": {
          "iopub.status.busy": "2023-01-14T05:49:54.609061Z",
          "iopub.execute_input": "2023-01-14T05:49:54.610099Z",
          "iopub.status.idle": "2023-01-14T05:49:54.670680Z",
          "shell.execute_reply.started": "2023-01-14T05:49:54.610059Z",
          "shell.execute_reply": "2023-01-14T05:49:54.669594Z"
        },
        "trusted": true,
        "id": "zYIR18jbzb5i"
      },
      "execution_count": 10,
      "outputs": []
    },
    {
      "cell_type": "code",
      "source": [
        "# add 2-year lag census data to each rows \n",
        "\n",
        "conditions = [df_all['year']==2019,df_all['year']==2020,df_all['year']==2021, df_all['year']==2022, df_all['year']==2023]\n",
        "choices_bb = [df_all['pct_bb_2017'],df_all['pct_bb_2018'],df_all['pct_bb_2019'],df_all['pct_bb_2020'],df_all['pct_bb_2021'] ]\n",
        "choices_college = [df_all['pct_college_2017'],df_all['pct_college_2018'],df_all['pct_college_2019'],\n",
        "                   df_all['pct_college_2020'],df_all['pct_college_2021']]\n",
        "choices_foreign = [df_all['pct_foreign_born_2017'],df_all['pct_foreign_born_2018'],df_all['pct_foreign_born_2019'],\n",
        "                   df_all['pct_foreign_born_2020'],df_all['pct_foreign_born_2021']]\n",
        "choices_workers = [df_all['pct_it_workers_2017'],df_all['pct_it_workers_2018'],df_all['pct_it_workers_2019'],\n",
        "                   df_all['pct_it_workers_2020'],df_all['pct_it_workers_2021']]\n",
        "choices_inc = [df_all['median_hh_inc_2017'],df_all['median_hh_inc_2018'],df_all['median_hh_inc_2019'],\n",
        "               df_all['median_hh_inc_2020'],df_all['median_hh_inc_2021']]"
      ],
      "metadata": {
        "execution": {
          "iopub.status.busy": "2023-01-14T05:49:59.470797Z",
          "iopub.execute_input": "2023-01-14T05:49:59.471204Z",
          "iopub.status.idle": "2023-01-14T05:49:59.482915Z",
          "shell.execute_reply.started": "2023-01-14T05:49:59.471169Z",
          "shell.execute_reply": "2023-01-14T05:49:59.481757Z"
        },
        "trusted": true,
        "id": "EceffzB0zb5k"
      },
      "execution_count": 12,
      "outputs": []
    },
    {
      "cell_type": "code",
      "source": [
        "df_all['year'].value_counts()\n",
        "#2019 2020 2021 2022 2023<target>"
      ],
      "metadata": {
        "execution": {
          "iopub.status.busy": "2023-01-14T05:50:23.193132Z",
          "iopub.execute_input": "2023-01-14T05:50:23.193974Z",
          "iopub.status.idle": "2023-01-14T05:50:23.208324Z",
          "shell.execute_reply.started": "2023-01-14T05:50:23.193925Z",
          "shell.execute_reply": "2023-01-14T05:50:23.207088Z"
        },
        "trusted": true,
        "colab": {
          "base_uri": "https://localhost:8080/"
        },
        "id": "PuRbqOYkzb5k",
        "outputId": "ccdc1c93-a691-4db2-a0a8-15340fe635b8"
      },
      "execution_count": 13,
      "outputs": [
        {
          "output_type": "execute_result",
          "data": {
            "text/plain": [
              "2020    37620\n",
              "2021    37620\n",
              "2022    37620\n",
              "2023    18810\n",
              "2019    15675\n",
              "Name: year, dtype: int64"
            ]
          },
          "metadata": {},
          "execution_count": 13
        }
      ]
    },
    {
      "cell_type": "code",
      "source": [
        "df_all.info()\n",
        "# year 2019 2020 2021 2022 2023 \n",
        "# pct_bb 2017 2018 2019 2020 2021\n",
        "# pct_college 2017 2018 2019 2020 2021\n",
        "# pct_foreign_born 2017 2018 2019 2020 2021"
      ],
      "metadata": {
        "execution": {
          "iopub.status.busy": "2023-01-14T05:52:19.785304Z",
          "iopub.execute_input": "2023-01-14T05:52:19.786103Z",
          "iopub.status.idle": "2023-01-14T05:52:19.839555Z",
          "shell.execute_reply.started": "2023-01-14T05:52:19.786057Z",
          "shell.execute_reply": "2023-01-14T05:52:19.838565Z"
        },
        "trusted": true,
        "colab": {
          "base_uri": "https://localhost:8080/"
        },
        "id": "6PTQ0RDwzb5k",
        "outputId": "782675ee-44e4-4deb-9de7-d430642a84aa"
      },
      "execution_count": 16,
      "outputs": [
        {
          "output_type": "stream",
          "name": "stdout",
          "text": [
            "<class 'pandas.core.frame.DataFrame'>\n",
            "Int64Index: 147345 entries, 0 to 147344\n",
            "Data columns (total 35 columns):\n",
            " #   Column                 Non-Null Count   Dtype         \n",
            "---  ------                 --------------   -----         \n",
            " 0   row_id                 147345 non-null  object        \n",
            " 1   cfips                  147345 non-null  int64         \n",
            " 2   county                 122265 non-null  object        \n",
            " 3   state                  122265 non-null  object        \n",
            " 4   first_day_of_month     147345 non-null  datetime64[ns]\n",
            " 5   microbusiness_density  122265 non-null  float64       \n",
            " 6   active                 122265 non-null  float64       \n",
            " 7   dataset                147345 non-null  object        \n",
            " 8   pct_bb_2017            147345 non-null  float64       \n",
            " 9   pct_bb_2018            147345 non-null  float64       \n",
            " 10  pct_bb_2019            147345 non-null  float64       \n",
            " 11  pct_bb_2020            147345 non-null  float64       \n",
            " 12  pct_bb_2021            147345 non-null  float64       \n",
            " 13  pct_college_2017       147345 non-null  float64       \n",
            " 14  pct_college_2018       147345 non-null  float64       \n",
            " 15  pct_college_2019       147345 non-null  float64       \n",
            " 16  pct_college_2020       147345 non-null  float64       \n",
            " 17  pct_college_2021       147345 non-null  float64       \n",
            " 18  pct_foreign_born_2017  147345 non-null  float64       \n",
            " 19  pct_foreign_born_2018  147345 non-null  float64       \n",
            " 20  pct_foreign_born_2019  147345 non-null  float64       \n",
            " 21  pct_foreign_born_2020  147345 non-null  float64       \n",
            " 22  pct_foreign_born_2021  147345 non-null  float64       \n",
            " 23  pct_it_workers_2017    147345 non-null  float64       \n",
            " 24  pct_it_workers_2018    147298 non-null  float64       \n",
            " 25  pct_it_workers_2019    147345 non-null  float64       \n",
            " 26  pct_it_workers_2020    147345 non-null  float64       \n",
            " 27  pct_it_workers_2021    147345 non-null  float64       \n",
            " 28  median_hh_inc_2017     147345 non-null  int64         \n",
            " 29  median_hh_inc_2018     147298 non-null  float64       \n",
            " 30  median_hh_inc_2019     147345 non-null  int64         \n",
            " 31  median_hh_inc_2020     147298 non-null  float64       \n",
            " 32  median_hh_inc_2021     147298 non-null  float64       \n",
            " 33  year                   147345 non-null  int64         \n",
            " 34  month                  147345 non-null  int64         \n",
            "dtypes: datetime64[ns](1), float64(25), int64(5), object(4)\n",
            "memory usage: 40.5+ MB\n"
          ]
        }
      ]
    },
    {
      "cell_type": "code",
      "source": [
        "df_all['pct_bb_2017']"
      ],
      "metadata": {
        "execution": {
          "iopub.status.busy": "2023-01-14T06:08:10.647510Z",
          "iopub.execute_input": "2023-01-14T06:08:10.647899Z",
          "iopub.status.idle": "2023-01-14T06:08:10.657389Z",
          "shell.execute_reply.started": "2023-01-14T06:08:10.647869Z",
          "shell.execute_reply": "2023-01-14T06:08:10.656114Z"
        },
        "trusted": true,
        "colab": {
          "base_uri": "https://localhost:8080/"
        },
        "id": "7qSTX4Sgzb5l",
        "outputId": "334baee3-8953-49a5-e153-38ef76805b40"
      },
      "execution_count": 17,
      "outputs": [
        {
          "output_type": "execute_result",
          "data": {
            "text/plain": [
              "0         80.8\n",
              "1         80.8\n",
              "2         80.8\n",
              "3         80.8\n",
              "4         80.8\n",
              "          ... \n",
              "147340    78.7\n",
              "147341    78.7\n",
              "147342    78.7\n",
              "147343    78.7\n",
              "147344    78.7\n",
              "Name: pct_bb_2017, Length: 147345, dtype: float64"
            ]
          },
          "metadata": {},
          "execution_count": 17
        }
      ]
    },
    {
      "cell_type": "code",
      "source": [
        "df_all[\"pct_bb\"] = np.select(conditions, choices_bb, default=np.nan)\n",
        "# pct_bb, pct_college, pct_foregin, pct_workers, pct_inc : 2017 -> year : 2019\n",
        "df_all[\"pct_college\"] = np.select(conditions, choices_college, default=np.nan)\n",
        "df_all[\"pct_foreign\"] = np.select(conditions, choices_foreign, default=np.nan)\n",
        "df_all[\"pct_workers\"] = np.select(conditions, choices_workers, default=np.nan)\n",
        "df_all[\"pct_inc\"] = np.select(conditions, choices_inc, default=np.nan)"
      ],
      "metadata": {
        "execution": {
          "iopub.status.busy": "2023-01-14T06:07:15.936530Z",
          "iopub.execute_input": "2023-01-14T06:07:15.937058Z",
          "iopub.status.idle": "2023-01-14T06:07:15.954530Z",
          "shell.execute_reply.started": "2023-01-14T06:07:15.936997Z",
          "shell.execute_reply": "2023-01-14T06:07:15.953721Z"
        },
        "trusted": true,
        "id": "7ADsXILGzb5l"
      },
      "execution_count": 18,
      "outputs": []
    },
    {
      "cell_type": "code",
      "source": [
        "df_all['pct_bb']"
      ],
      "metadata": {
        "execution": {
          "iopub.status.busy": "2023-01-14T06:07:31.859485Z",
          "iopub.execute_input": "2023-01-14T06:07:31.859864Z",
          "iopub.status.idle": "2023-01-14T06:07:31.869661Z",
          "shell.execute_reply.started": "2023-01-14T06:07:31.859836Z",
          "shell.execute_reply": "2023-01-14T06:07:31.868418Z"
        },
        "trusted": true,
        "colab": {
          "base_uri": "https://localhost:8080/"
        },
        "id": "FNonRGbEzb5l",
        "outputId": "56e9dda7-d325-4e06-fff8-b243bfb93e7f"
      },
      "execution_count": 19,
      "outputs": [
        {
          "output_type": "execute_result",
          "data": {
            "text/plain": [
              "0         80.8\n",
              "1         80.8\n",
              "2         80.8\n",
              "3         80.8\n",
              "4         80.8\n",
              "          ... \n",
              "147340    87.1\n",
              "147341    87.1\n",
              "147342    87.1\n",
              "147343    87.1\n",
              "147344    87.1\n",
              "Name: pct_bb, Length: 147345, dtype: float64"
            ]
          },
          "metadata": {},
          "execution_count": 19
        }
      ]
    },
    {
      "cell_type": "code",
      "source": [
        "df_all['first_day_of_month']"
      ],
      "metadata": {
        "execution": {
          "iopub.status.busy": "2023-01-14T06:16:00.869075Z",
          "iopub.execute_input": "2023-01-14T06:16:00.869489Z",
          "iopub.status.idle": "2023-01-14T06:16:00.878798Z",
          "shell.execute_reply.started": "2023-01-14T06:16:00.869454Z",
          "shell.execute_reply": "2023-01-14T06:16:00.877847Z"
        },
        "trusted": true,
        "colab": {
          "base_uri": "https://localhost:8080/"
        },
        "id": "URON_8N8zb5l",
        "outputId": "94fc9aa9-62e7-407f-bef4-d5fe2d760cdb"
      },
      "execution_count": 20,
      "outputs": [
        {
          "output_type": "execute_result",
          "data": {
            "text/plain": [
              "0        2019-08-01\n",
              "1        2019-09-01\n",
              "2        2019-10-01\n",
              "3        2019-11-01\n",
              "4        2019-12-01\n",
              "            ...    \n",
              "147340   2023-02-01\n",
              "147341   2023-03-01\n",
              "147342   2023-04-01\n",
              "147343   2023-05-01\n",
              "147344   2023-06-01\n",
              "Name: first_day_of_month, Length: 147345, dtype: datetime64[ns]"
            ]
          },
          "metadata": {},
          "execution_count": 20
        }
      ]
    },
    {
      "cell_type": "code",
      "source": [
        "# drop unnecessary columns\n",
        "df_all.drop(['pct_bb_2017', 'pct_bb_2018',\n",
        "       'pct_bb_2019', 'pct_bb_2020', 'pct_bb_2021', 'pct_college_2017',\n",
        "       'pct_college_2018', 'pct_college_2019', 'pct_college_2020',\n",
        "       'pct_college_2021', 'pct_foreign_born_2017', 'pct_foreign_born_2018',\n",
        "       'pct_foreign_born_2019', 'pct_foreign_born_2020',\n",
        "       'pct_foreign_born_2021', 'pct_it_workers_2017', 'pct_it_workers_2018',\n",
        "       'pct_it_workers_2019', 'pct_it_workers_2020', 'pct_it_workers_2021',\n",
        "       'median_hh_inc_2017', 'median_hh_inc_2018', 'median_hh_inc_2019',\n",
        "       'median_hh_inc_2020', 'median_hh_inc_2021'], axis=1, inplace=True)"
      ],
      "metadata": {
        "execution": {
          "iopub.status.busy": "2023-01-14T06:10:47.345892Z",
          "iopub.execute_input": "2023-01-14T06:10:47.346329Z",
          "iopub.status.idle": "2023-01-14T06:10:47.384604Z",
          "shell.execute_reply.started": "2023-01-14T06:10:47.346292Z",
          "shell.execute_reply": "2023-01-14T06:10:47.383406Z"
        },
        "trusted": true,
        "id": "CtYTsaKqzb5m"
      },
      "execution_count": 21,
      "outputs": []
    },
    {
      "cell_type": "code",
      "source": [
        "# let's see how '(2year-lag)pct_college' is related with micro-biz density\n",
        "import matplotlib.pyplot as plt\n",
        "\n",
        "test = df_all.set_index('first_day_of_month')\n",
        "test = test[test['cfips']==56001]\n",
        "fig = plt.figure(figsize = (12, 4))\n",
        "ax1 = fig.add_subplot(1,1,1)\n",
        "ax1.plot(test['microbusiness_density'], color='blue' , label='microbusiness_density')\n",
        "ax2 = ax1.twinx()\n",
        "ax2.plot(test['pct_college'], color='red' , label='college')"
      ],
      "metadata": {
        "execution": {
          "iopub.status.busy": "2023-01-14T06:10:56.730495Z",
          "iopub.execute_input": "2023-01-14T06:10:56.730985Z",
          "iopub.status.idle": "2023-01-14T06:10:57.140942Z",
          "shell.execute_reply.started": "2023-01-14T06:10:56.730950Z",
          "shell.execute_reply": "2023-01-14T06:10:57.139932Z"
        },
        "trusted": true,
        "colab": {
          "base_uri": "https://localhost:8080/",
          "height": 271
        },
        "id": "NnMhudVvzb5m",
        "outputId": "b6054b70-ca50-4dc4-f875-fb528d556f6e"
      },
      "execution_count": 22,
      "outputs": [
        {
          "output_type": "execute_result",
          "data": {
            "text/plain": [
              "[<matplotlib.lines.Line2D at 0x7f1bcc4cbfd0>]"
            ]
          },
          "metadata": {},
          "execution_count": 22
        },
        {
          "output_type": "display_data",
          "data": {
            "text/plain": [
              "<Figure size 864x288 with 2 Axes>"
            ],
            "image/png": "[encoded data removed]"
          },
          "metadata": {
            "needs_background": "light"
          }
        }
      ]
    },
    {
      "cell_type": "markdown",
      "source": [
        "- pct_college 피쳐(year-2)와 density 피쳐(year) 간의 상관관계 확인 : 뚜렷하지 않음"
      ],
      "metadata": {
        "id": "q5p8lfLF0dto"
      }
    },
    {
      "cell_type": "code",
      "source": [
        "train_pivoted = df_all.pivot(index='cfips',columns='first_day_of_month',values='microbusiness_density')"
      ],
      "metadata": {
        "execution": {
          "iopub.status.busy": "2023-01-14T06:15:27.052179Z",
          "iopub.execute_input": "2023-01-14T06:15:27.052705Z",
          "iopub.status.idle": "2023-01-14T06:15:27.096523Z",
          "shell.execute_reply.started": "2023-01-14T06:15:27.052664Z",
          "shell.execute_reply": "2023-01-14T06:15:27.095360Z"
        },
        "trusted": true,
        "id": "p68DEpH1zb5m"
      },
      "execution_count": 23,
      "outputs": []
    },
    {
      "cell_type": "code",
      "source": [
        "# micro-business density \n",
        "plt.plot(train_pivoted.mean(axis=0));\n",
        "plt.xticks(rotation=90);"
      ],
      "metadata": {
        "execution": {
          "iopub.status.busy": "2023-01-14T06:20:01.226936Z",
          "iopub.execute_input": "2023-01-14T06:20:01.228304Z",
          "iopub.status.idle": "2023-01-14T06:20:01.447463Z",
          "shell.execute_reply.started": "2023-01-14T06:20:01.228262Z",
          "shell.execute_reply": "2023-01-14T06:20:01.446400Z"
        },
        "trusted": true,
        "colab": {
          "base_uri": "https://localhost:8080/",
          "height": 297
        },
        "id": "GpL2nh9fzb5m",
        "outputId": "abe28f82-06f7-4ffd-ac68-416369164c35"
      },
      "execution_count": 24,
      "outputs": [
        {
          "output_type": "display_data",
          "data": {
            "text/plain": [
              "<Figure size 432x288 with 1 Axes>"
            ],
            "image/png": "[encoded data removed]"
          },
          "metadata": {
            "needs_background": "light"
          }
        }
      ]
    },
    {
      "cell_type": "markdown",
      "source": [
        "## create function for MA & EMA"
      ],
      "metadata": {
        "id": "Y0EnwxCE7EBv"
      }
    },
    {
      "cell_type": "markdown",
      "source": [
        "- density 의 경우에는 점점 성장하는 추세\n",
        "- 2020년 감소의 경우 코로나의 영향이 존재했을 가능성"
      ],
      "metadata": {
        "id": "5DSVuGxP0sWZ"
      }
    },
    {
      "cell_type": "code",
      "source": [
        "# create function for MA and EMA\n",
        "#SMA and EMA are both commonly-used trend indicators. SMA gives equal weight to all data points,  while EMA applies more weight to recent data points. \n",
        "\n",
        "def moving_average(df,i, n):\n",
        "    MA = pd.Series(df[i].rolling(n, min_periods=n).mean(), name = 'MA_' + str(n))\n",
        "    df = df.join(MA)\n",
        "    return df\n",
        "\n",
        "def weighted_moving_average(df,i, n):\n",
        "    EMA = pd.Series(df[i].ewm(span=n, adjust=False, min_periods=n).mean(), name = 'EMA_' + str(n))\n",
        "    df = df.join(EMA)\n",
        "    return df"
      ],
      "metadata": {
        "execution": {
          "iopub.status.busy": "2023-01-14T06:29:47.548911Z",
          "iopub.execute_input": "2023-01-14T06:29:47.549371Z",
          "iopub.status.idle": "2023-01-14T06:29:47.556711Z",
          "shell.execute_reply.started": "2023-01-14T06:29:47.549337Z",
          "shell.execute_reply": "2023-01-14T06:29:47.555549Z"
        },
        "trusted": true,
        "id": "5pVZC63nzb5n"
      },
      "execution_count": 25,
      "outputs": []
    },
    {
      "cell_type": "markdown",
      "source": [
        "- MA : 이동 평균 모델 : 과거의 오차가 현재에 영향\n",
        "- 말그대로 이동값의 평균값"
      ],
      "metadata": {
        "id": "G0UW87-2zb5n"
      }
    },
    {
      "cell_type": "code",
      "source": [
        "# generate time-series based variables.\n",
        "# create Moving Average variable.\n",
        "df_all = moving_average(df_all, 'microbusiness_density', 3)\n",
        "df_all = moving_average(df_all, 'microbusiness_density', 6)\n",
        "\n",
        "# actually it's Exponential Moving Average. \n",
        "df_all = weighted_moving_average(df_all, 'microbusiness_density', 3)\n",
        "df_all = weighted_moving_average(df_all, 'microbusiness_density', 6)"
      ],
      "metadata": {
        "execution": {
          "iopub.status.busy": "2023-01-14T06:29:24.759927Z",
          "iopub.execute_input": "2023-01-14T06:29:24.760386Z",
          "iopub.status.idle": "2023-01-14T06:29:24.782707Z",
          "shell.execute_reply.started": "2023-01-14T06:29:24.760351Z",
          "shell.execute_reply": "2023-01-14T06:29:24.781232Z"
        },
        "trusted": true,
        "id": "e7CZ4D1Azb5n"
      },
      "execution_count": 26,
      "outputs": []
    },
    {
      "cell_type": "code",
      "source": [
        "# add 'pct_change_before' variable. This variable shows that how the density changed previous month.\n",
        "df_all['pct_change_before'] = df_all['microbusiness_density'].pct_change().shift(1) "
      ],
      "metadata": {
        "execution": {
          "iopub.status.busy": "2023-01-14T06:38:46.449507Z",
          "iopub.execute_input": "2023-01-14T06:38:46.449916Z",
          "iopub.status.idle": "2023-01-14T06:38:46.460297Z",
          "shell.execute_reply.started": "2023-01-14T06:38:46.449881Z",
          "shell.execute_reply": "2023-01-14T06:38:46.458986Z"
        },
        "trusted": true,
        "id": "WqVRLpwVzb5n"
      },
      "execution_count": 27,
      "outputs": []
    },
    {
      "cell_type": "markdown",
      "source": [
        "## generate lagged data \n",
        "\n",
        "- 과거에 대한 현재의 밀도 변화율 피쳐 생성\n",
        "- lag1 means previous (one-month) month's mciro-biz density."
      ],
      "metadata": {
        "id": "8FJu-Muv1Anz"
      }
    },
    {
      "cell_type": "code",
      "source": [
        "# generate lag date\n",
        "\n",
        "def lag_feature(df):\n",
        "    for lag in range(1, 6):\n",
        "        df[f'lag_density_{lag}'] = df.groupby('cfips')['microbusiness_density'].shift(lag)\n",
        "        df[f'lag_density_{lag}'] = df.groupby('cfips')[f'lag_density_{lag}'].bfill()\n",
        "        \n",
        "    return df\n",
        "    \n",
        "df_all = lag_feature(df_all)"
      ],
      "metadata": {
        "execution": {
          "iopub.status.busy": "2023-01-14T06:39:35.122652Z",
          "iopub.execute_input": "2023-01-14T06:39:35.123136Z",
          "iopub.status.idle": "2023-01-14T06:39:35.193608Z",
          "shell.execute_reply.started": "2023-01-14T06:39:35.123099Z",
          "shell.execute_reply": "2023-01-14T06:39:35.192363Z"
        },
        "trusted": true,
        "id": "jwUMH-Muzb5n"
      },
      "execution_count": 28,
      "outputs": []
    },
    {
      "cell_type": "markdown",
      "source": [
        "- 왜 lag의 range를 1~6 으로 한거지?"
      ],
      "metadata": {
        "id": "d_rv98Hv1o-O"
      }
    },
    {
      "cell_type": "code",
      "source": [
        "# the average microbusiness density in each state by month\n",
        "# each month's national average microbusines_density \n",
        "# national_avg : 월별 밀도 평균\n",
        "# state_avg : 주의 월별 밀도 평균\n",
        "df_all['national_avg'] = df_all.groupby(['year','month'])['microbusiness_density'].transform('mean')\n",
        "df_all['state_avg'] = df_all.groupby(['state','year','month'])['microbusiness_density'].transform('mean')"
      ],
      "metadata": {
        "execution": {
          "iopub.status.busy": "2023-01-14T06:42:55.209678Z",
          "iopub.execute_input": "2023-01-14T06:42:55.210110Z",
          "iopub.status.idle": "2023-01-14T06:42:55.245647Z",
          "shell.execute_reply.started": "2023-01-14T06:42:55.210073Z",
          "shell.execute_reply": "2023-01-14T06:42:55.244837Z"
        },
        "trusted": true,
        "id": "jOnxCqLxzb5o"
      },
      "execution_count": 38,
      "outputs": []
    },
    {
      "cell_type": "code",
      "source": [
        "# example \n",
        "df_all[df_all['cfips']==47081].head(10)"
      ],
      "metadata": {
        "colab": {
          "base_uri": "https://localhost:8080/",
          "height": 600
        },
        "id": "r2cP7wVtzb5o",
        "outputId": "c5500540-2e10-4da5-e753-3d2d78c033bf"
      },
      "execution_count": 30,
      "outputs": [
        {
          "output_type": "execute_result",
          "data": {
            "text/plain": [
              "                  row_id  cfips          county      state first_day_of_month  \\\n",
              "106173  47081_2019-08-01  47081  Hickman County  Tennessee         2019-08-01   \n",
              "106174  47081_2019-09-01  47081  Hickman County  Tennessee         2019-09-01   \n",
              "106175  47081_2019-10-01  47081  Hickman County  Tennessee         2019-10-01   \n",
              "106176  47081_2019-11-01  47081  Hickman County  Tennessee         2019-11-01   \n",
              "106177  47081_2019-12-01  47081  Hickman County  Tennessee         2019-12-01   \n",
              "106178  47081_2020-01-01  47081  Hickman County  Tennessee         2020-01-01   \n",
              "106179  47081_2020-02-01  47081  Hickman County  Tennessee         2020-02-01   \n",
              "106180  47081_2020-03-01  47081  Hickman County  Tennessee         2020-03-01   \n",
              "106181  47081_2020-04-01  47081  Hickman County  Tennessee         2020-04-01   \n",
              "106182  47081_2020-05-01  47081  Hickman County  Tennessee         2020-05-01   \n",
              "\n",
              "        microbusiness_density  active dataset  year  month  pct_bb  \\\n",
              "106173               2.675777   513.0   train  2019      8    53.7   \n",
              "106174               2.607970   500.0   train  2019      9    53.7   \n",
              "106175               2.733153   524.0   train  2019     10    53.7   \n",
              "106176               2.738368   525.0   train  2019     11    53.7   \n",
              "106177               2.701857   518.0   train  2019     12    53.7   \n",
              "106178               2.660593   514.0   train  2020      1    57.3   \n",
              "106179               2.645064   511.0   train  2020      2    57.3   \n",
              "106180               2.588126   500.0   train  2020      3    57.3   \n",
              "106181               2.629536   508.0   train  2020      4    57.3   \n",
              "106182               2.634712   509.0   train  2020      5    57.3   \n",
              "\n",
              "        pct_college  pct_foreign  pct_workers  pct_inc      MA_3      MA_6  \\\n",
              "106173          7.0          0.9          2.0  39333.0       NaN       NaN   \n",
              "106174          7.0          0.9          2.0  39333.0       NaN       NaN   \n",
              "106175          7.0          0.9          2.0  39333.0  2.672300       NaN   \n",
              "106176          7.0          0.9          2.0  39333.0  2.693164       NaN   \n",
              "106177          7.0          0.9          2.0  39333.0  2.724459       NaN   \n",
              "106178          7.4          1.2          1.6  41998.0  2.700273  2.686286   \n",
              "106179          7.4          1.2          1.6  41998.0  2.669172  2.681168   \n",
              "106180          7.4          1.2          1.6  41998.0  2.631261  2.677860   \n",
              "106181          7.4          1.2          1.6  41998.0  2.620909  2.660591   \n",
              "106182          7.4          1.2          1.6  41998.0  2.617458  2.643315   \n",
              "\n",
              "           EMA_3     EMA_6  pct_change_before  lag_density_1  lag_density_2  \\\n",
              "106173  2.674302  2.620634           0.000000       2.675777       2.675777   \n",
              "106174  2.641136  2.617016           0.168225       2.675777       2.675777   \n",
              "106175  2.687144  2.650198          -0.025341       2.607970       2.675777   \n",
              "106176  2.712756  2.675389           0.048000       2.733153       2.607970   \n",
              "106177  2.707307  2.682951           0.001908       2.738368       2.733153   \n",
              "106178  2.683950  2.676563          -0.013333       2.701857       2.738368   \n",
              "106179  2.664507  2.667564          -0.015272       2.660593       2.701857   \n",
              "106180  2.626316  2.644867          -0.005837       2.645064       2.660593   \n",
              "106181  2.627926  2.640487          -0.021526       2.588126       2.645064   \n",
              "106182  2.631319  2.638837           0.016000       2.629536       2.588126   \n",
              "\n",
              "        lag_density_3  lag_density_4  lag_density_5  national_avg  state_avg  \n",
              "106173       2.675777       2.675777       2.675777      3.749621   3.180018  \n",
              "106174       2.675777       2.675777       2.675777      3.696846   3.208617  \n",
              "106175       2.675777       2.675777       2.675777      3.778263   3.207843  \n",
              "106176       2.675777       2.675777       2.675777      3.722510   3.231535  \n",
              "106177       2.607970       2.675777       2.675777      3.717284   3.230364  \n",
              "106178       2.733153       2.607970       2.675777      3.689041   3.188005  \n",
              "106179       2.738368       2.733153       2.607970      3.635546   3.156313  \n",
              "106180       2.701857       2.738368       2.733153      3.648742   3.148403  \n",
              "106181       2.660593       2.701857       2.738368      3.700048   3.191876  \n",
              "106182       2.645064       2.660593       2.701857      3.716288   3.208087  "
            ],
            "text/html": [
              "\n",
              "  <div id=\"df-93196775-2d0d-4ec9-b03a-92e38125a1fd\">\n",
              "    <div class=\"colab-df-container\">\n",
              "      <div>\n",
              "<style scoped>\n",
              "    .dataframe tbody tr th:only-of-type {\n",
              "        vertical-align: middle;\n",
              "    }\n",
              "\n",
              "    .dataframe tbody tr th {\n",
              "        vertical-align: top;\n",
              "    }\n",
              "\n",
              "    .dataframe thead th {\n",
              "        text-align: right;\n",
              "    }\n",
              "</style>\n",
              "<table border=\"1\" class=\"dataframe\">\n",
              "  <thead>\n",
              "    <tr style=\"text-align: right;\">\n",
              "      <th></th>\n",
              "      <th>row_id</th>\n",
              "      <th>cfips</th>\n",
              "      <th>county</th>\n",
              "      <th>state</th>\n",
              "      <th>first_day_of_month</th>\n",
              "      <th>microbusiness_density</th>\n",
              "      <th>active</th>\n",
              "      <th>dataset</th>\n",
              "      <th>year</th>\n",
              "      <th>month</th>\n",
              "      <th>pct_bb</th>\n",
              "      <th>pct_college</th>\n",
              "      <th>pct_foreign</th>\n",
              "      <th>pct_workers</th>\n",
              "      <th>pct_inc</th>\n",
              "      <th>MA_3</th>\n",
              "      <th>MA_6</th>\n",
              "      <th>EMA_3</th>\n",
              "      <th>EMA_6</th>\n",
              "      <th>pct_change_before</th>\n",
              "      <th>lag_density_1</th>\n",
              "      <th>lag_density_2</th>\n",
              "      <th>lag_density_3</th>\n",
              "      <th>lag_density_4</th>\n",
              "      <th>lag_density_5</th>\n",
              "      <th>national_avg</th>\n",
              "      <th>state_avg</th>\n",
              "    </tr>\n",
              "  </thead>\n",
              "  <tbody>\n",
              "    <tr>\n",
              "      <th>106173</th>\n",
              "      <td>47081_2019-08-01</td>\n",
              "      <td>47081</td>\n",
              "      <td>Hickman County</td>\n",
              "      <td>Tennessee</td>\n",
              "      <td>2019-08-01</td>\n",
              "      <td>2.675777</td>\n",
              "      <td>513.0</td>\n",
              "      <td>train</td>\n",
              "      <td>2019</td>\n",
              "      <td>8</td>\n",
              "      <td>53.7</td>\n",
              "      <td>7.0</td>\n",
              "      <td>0.9</td>\n",
              "      <td>2.0</td>\n",
              "      <td>39333.0</td>\n",
              "      <td>NaN</td>\n",
              "      <td>NaN</td>\n",
              "      <td>2.674302</td>\n",
              "      <td>2.620634</td>\n",
              "      <td>0.000000</td>\n",
              "      <td>2.675777</td>\n",
              "      <td>2.675777</td>\n",
              "      <td>2.675777</td>\n",
              "      <td>2.675777</td>\n",
              "      <td>2.675777</td>\n",
              "      <td>3.749621</td>\n",
              "      <td>3.180018</td>\n",
              "    </tr>\n",
              "    <tr>\n",
              "      <th>106174</th>\n",
              "      <td>47081_2019-09-01</td>\n",
              "      <td>47081</td>\n",
              "      <td>Hickman County</td>\n",
              "      <td>Tennessee</td>\n",
              "      <td>2019-09-01</td>\n",
              "      <td>2.607970</td>\n",
              "      <td>500.0</td>\n",
              "      <td>train</td>\n",
              "      <td>2019</td>\n",
              "      <td>9</td>\n",
              "      <td>53.7</td>\n",
              "      <td>7.0</td>\n",
              "      <td>0.9</td>\n",
              "      <td>2.0</td>\n",
              "      <td>39333.0</td>\n",
              "      <td>NaN</td>\n",
              "      <td>NaN</td>\n",
              "      <td>2.641136</td>\n",
              "      <td>2.617016</td>\n",
              "      <td>0.168225</td>\n",
              "      <td>2.675777</td>\n",
              "      <td>2.675777</td>\n",
              "      <td>2.675777</td>\n",
              "      <td>2.675777</td>\n",
              "      <td>2.675777</td>\n",
              "      <td>3.696846</td>\n",
              "      <td>3.208617</td>\n",
              "    </tr>\n",
              "    <tr>\n",
              "      <th>106175</th>\n",
              "      <td>47081_2019-10-01</td>\n",
              "      <td>47081</td>\n",
              "      <td>Hickman County</td>\n",
              "      <td>Tennessee</td>\n",
              "      <td>2019-10-01</td>\n",
              "      <td>2.733153</td>\n",
              "      <td>524.0</td>\n",
              "      <td>train</td>\n",
              "      <td>2019</td>\n",
              "      <td>10</td>\n",
              "      <td>53.7</td>\n",
              "      <td>7.0</td>\n",
              "      <td>0.9</td>\n",
              "      <td>2.0</td>\n",
              "      <td>39333.0</td>\n",
              "      <td>2.672300</td>\n",
              "      <td>NaN</td>\n",
              "      <td>2.687144</td>\n",
              "      <td>2.650198</td>\n",
              "      <td>-0.025341</td>\n",
              "      <td>2.607970</td>\n",
              "      <td>2.675777</td>\n",
              "      <td>2.675777</td>\n",
              "      <td>2.675777</td>\n",
              "      <td>2.675777</td>\n",
              "      <td>3.778263</td>\n",
              "      <td>3.207843</td>\n",
              "    </tr>\n",
              "    <tr>\n",
              "      <th>106176</th>\n",
              "      <td>47081_2019-11-01</td>\n",
              "      <td>47081</td>\n",
              "      <td>Hickman County</td>\n",
              "      <td>Tennessee</td>\n",
              "      <td>2019-11-01</td>\n",
              "      <td>2.738368</td>\n",
              "      <td>525.0</td>\n",
              "      <td>train</td>\n",
              "      <td>2019</td>\n",
              "      <td>11</td>\n",
              "      <td>53.7</td>\n",
              "      <td>7.0</td>\n",
              "      <td>0.9</td>\n",
              "      <td>2.0</td>\n",
              "      <td>39333.0</td>\n",
              "      <td>2.693164</td>\n",
              "      <td>NaN</td>\n",
              "      <td>2.712756</td>\n",
              "      <td>2.675389</td>\n",
              "      <td>0.048000</td>\n",
              "      <td>2.733153</td>\n",
              "      <td>2.607970</td>\n",
              "      <td>2.675777</td>\n",
              "      <td>2.675777</td>\n",
              "      <td>2.675777</td>\n",
              "      <td>3.722510</td>\n",
              "      <td>3.231535</td>\n",
              "    </tr>\n",
              "    <tr>\n",
              "      <th>106177</th>\n",
              "      <td>47081_2019-12-01</td>\n",
              "      <td>47081</td>\n",
              "      <td>Hickman County</td>\n",
              "      <td>Tennessee</td>\n",
              "      <td>2019-12-01</td>\n",
              "      <td>2.701857</td>\n",
              "      <td>518.0</td>\n",
              "      <td>train</td>\n",
              "      <td>2019</td>\n",
              "      <td>12</td>\n",
              "      <td>53.7</td>\n",
              "      <td>7.0</td>\n",
              "      <td>0.9</td>\n",
              "      <td>2.0</td>\n",
              "      <td>39333.0</td>\n",
              "      <td>2.724459</td>\n",
              "      <td>NaN</td>\n",
              "      <td>2.707307</td>\n",
              "      <td>2.682951</td>\n",
              "      <td>0.001908</td>\n",
              "      <td>2.738368</td>\n",
              "      <td>2.733153</td>\n",
              "      <td>2.607970</td>\n",
              "      <td>2.675777</td>\n",
              "      <td>2.675777</td>\n",
              "      <td>3.717284</td>\n",
              "      <td>3.230364</td>\n",
              "    </tr>\n",
              "    <tr>\n",
              "      <th>106178</th>\n",
              "      <td>47081_2020-01-01</td>\n",
              "      <td>47081</td>\n",
              "      <td>Hickman County</td>\n",
              "      <td>Tennessee</td>\n",
              "      <td>2020-01-01</td>\n",
              "      <td>2.660593</td>\n",
              "      <td>514.0</td>\n",
              "      <td>train</td>\n",
              "      <td>2020</td>\n",
              "      <td>1</td>\n",
              "      <td>57.3</td>\n",
              "      <td>7.4</td>\n",
              "      <td>1.2</td>\n",
              "      <td>1.6</td>\n",
              "      <td>41998.0</td>\n",
              "      <td>2.700273</td>\n",
              "      <td>2.686286</td>\n",
              "      <td>2.683950</td>\n",
              "      <td>2.676563</td>\n",
              "      <td>-0.013333</td>\n",
              "      <td>2.701857</td>\n",
              "      <td>2.738368</td>\n",
              "      <td>2.733153</td>\n",
              "      <td>2.607970</td>\n",
              "      <td>2.675777</td>\n",
              "      <td>3.689041</td>\n",
              "      <td>3.188005</td>\n",
              "    </tr>\n",
              "    <tr>\n",
              "      <th>106179</th>\n",
              "      <td>47081_2020-02-01</td>\n",
              "      <td>47081</td>\n",
              "      <td>Hickman County</td>\n",
              "      <td>Tennessee</td>\n",
              "      <td>2020-02-01</td>\n",
              "      <td>2.645064</td>\n",
              "      <td>511.0</td>\n",
              "      <td>train</td>\n",
              "      <td>2020</td>\n",
              "      <td>2</td>\n",
              "      <td>57.3</td>\n",
              "      <td>7.4</td>\n",
              "      <td>1.2</td>\n",
              "      <td>1.6</td>\n",
              "      <td>41998.0</td>\n",
              "      <td>2.669172</td>\n",
              "      <td>2.681168</td>\n",
              "      <td>2.664507</td>\n",
              "      <td>2.667564</td>\n",
              "      <td>-0.015272</td>\n",
              "      <td>2.660593</td>\n",
              "      <td>2.701857</td>\n",
              "      <td>2.738368</td>\n",
              "      <td>2.733153</td>\n",
              "      <td>2.607970</td>\n",
              "      <td>3.635546</td>\n",
              "      <td>3.156313</td>\n",
              "    </tr>\n",
              "    <tr>\n",
              "      <th>106180</th>\n",
              "      <td>47081_2020-03-01</td>\n",
              "      <td>47081</td>\n",
              "      <td>Hickman County</td>\n",
              "      <td>Tennessee</td>\n",
              "      <td>2020-03-01</td>\n",
              "      <td>2.588126</td>\n",
              "      <td>500.0</td>\n",
              "      <td>train</td>\n",
              "      <td>2020</td>\n",
              "      <td>3</td>\n",
              "      <td>57.3</td>\n",
              "      <td>7.4</td>\n",
              "      <td>1.2</td>\n",
              "      <td>1.6</td>\n",
              "      <td>41998.0</td>\n",
              "      <td>2.631261</td>\n",
              "      <td>2.677860</td>\n",
              "      <td>2.626316</td>\n",
              "      <td>2.644867</td>\n",
              "      <td>-0.005837</td>\n",
              "      <td>2.645064</td>\n",
              "      <td>2.660593</td>\n",
              "      <td>2.701857</td>\n",
              "      <td>2.738368</td>\n",
              "      <td>2.733153</td>\n",
              "      <td>3.648742</td>\n",
              "      <td>3.148403</td>\n",
              "    </tr>\n",
              "    <tr>\n",
              "      <th>106181</th>\n",
              "      <td>47081_2020-04-01</td>\n",
              "      <td>47081</td>\n",
              "      <td>Hickman County</td>\n",
              "      <td>Tennessee</td>\n",
              "      <td>2020-04-01</td>\n",
              "      <td>2.629536</td>\n",
              "      <td>508.0</td>\n",
              "      <td>train</td>\n",
              "      <td>2020</td>\n",
              "      <td>4</td>\n",
              "      <td>57.3</td>\n",
              "      <td>7.4</td>\n",
              "      <td>1.2</td>\n",
              "      <td>1.6</td>\n",
              "      <td>41998.0</td>\n",
              "      <td>2.620909</td>\n",
              "      <td>2.660591</td>\n",
              "      <td>2.627926</td>\n",
              "      <td>2.640487</td>\n",
              "      <td>-0.021526</td>\n",
              "      <td>2.588126</td>\n",
              "      <td>2.645064</td>\n",
              "      <td>2.660593</td>\n",
              "      <td>2.701857</td>\n",
              "      <td>2.738368</td>\n",
              "      <td>3.700048</td>\n",
              "      <td>3.191876</td>\n",
              "    </tr>\n",
              "    <tr>\n",
              "      <th>106182</th>\n",
              "      <td>47081_2020-05-01</td>\n",
              "      <td>47081</td>\n",
              "      <td>Hickman County</td>\n",
              "      <td>Tennessee</td>\n",
              "      <td>2020-05-01</td>\n",
              "      <td>2.634712</td>\n",
              "      <td>509.0</td>\n",
              "      <td>train</td>\n",
              "      <td>2020</td>\n",
              "      <td>5</td>\n",
              "      <td>57.3</td>\n",
              "      <td>7.4</td>\n",
              "      <td>1.2</td>\n",
              "      <td>1.6</td>\n",
              "      <td>41998.0</td>\n",
              "      <td>2.617458</td>\n",
              "      <td>2.643315</td>\n",
              "      <td>2.631319</td>\n",
              "      <td>2.638837</td>\n",
              "      <td>0.016000</td>\n",
              "      <td>2.629536</td>\n",
              "      <td>2.588126</td>\n",
              "      <td>2.645064</td>\n",
              "      <td>2.660593</td>\n",
              "      <td>2.701857</td>\n",
              "      <td>3.716288</td>\n",
              "      <td>3.208087</td>\n",
              "    </tr>\n",
              "  </tbody>\n",
              "</table>\n",
              "</div>\n",
              "      <button class=\"colab-df-convert\" onclick=\"convertToInteractive('df-93196775-2d0d-4ec9-b03a-92e38125a1fd')\"\n",
              "              title=\"Convert this dataframe to an interactive table.\"\n",
              "              style=\"display:none;\">\n",
              "        \n",
              "  <svg xmlns=\"http://www.w3.org/2000/svg\" height=\"24px\"viewBox=\"0 0 24 24\"\n",
              "       width=\"24px\">\n",
              "    <path d=\"M0 0h24v24H0V0z\" fill=\"none\"/>\n",
              "    <path d=\"M18.56 5.44l.94 2.06.94-2.06 2.06-.94-2.06-.94-.94-2.06-.94 2.06-2.06.94zm-11 1L8.5 8.5l.94-2.06 2.06-.94-2.06-.94L8.5 2.5l-.94 2.06-2.06.94zm10 10l.94 2.06.94-2.06 2.06-.94-2.06-.94-.94-2.06-.94 2.06-2.06.94z\"/><path d=\"M17.41 7.96l-1.37-1.37c-.4-.4-.92-.59-1.43-.59-.52 0-1.04.2-1.43.59L10.3 9.45l-7.72 7.72c-.78.78-.78 2.05 0 2.83L4 21.41c.39.39.9.59 1.41.59.51 0 1.02-.2 1.41-.59l7.78-7.78 2.81-2.81c.8-.78.8-2.07 0-2.86zM5.41 20L4 18.59l7.72-7.72 1.47 1.35L5.41 20z\"/>\n",
              "  </svg>\n",
              "      </button>\n",
              "      \n",
              "  <style>\n",
              "    .colab-df-container {\n",
              "      display:flex;\n",
              "      flex-wrap:wrap;\n",
              "      gap: 12px;\n",
              "    }\n",
              "\n",
              "    .colab-df-convert {\n",
              "      background-color: #E8F0FE;\n",
              "      border: none;\n",
              "      border-radius: 50%;\n",
              "      cursor: pointer;\n",
              "      display: none;\n",
              "      fill: #1967D2;\n",
              "      height: 32px;\n",
              "      padding: 0 0 0 0;\n",
              "      width: 32px;\n",
              "    }\n",
              "\n",
              "    .colab-df-convert:hover {\n",
              "      background-color: #E2EBFA;\n",
              "      box-shadow: 0px 1px 2px rgba(60, 64, 67, 0.3), 0px 1px 3px 1px rgba(60, 64, 67, 0.15);\n",
              "      fill: #174EA6;\n",
              "    }\n",
              "\n",
              "    [theme=dark] .colab-df-convert {\n",
              "      background-color: #3B4455;\n",
              "      fill: #D2E3FC;\n",
              "    }\n",
              "\n",
              "    [theme=dark] .colab-df-convert:hover {\n",
              "      background-color: #434B5C;\n",
              "      box-shadow: 0px 1px 3px 1px rgba(0, 0, 0, 0.15);\n",
              "      filter: drop-shadow(0px 1px 2px rgba(0, 0, 0, 0.3));\n",
              "      fill: #FFFFFF;\n",
              "    }\n",
              "  </style>\n",
              "\n",
              "      <script>\n",
              "        const buttonEl =\n",
              "          document.querySelector('#df-93196775-2d0d-4ec9-b03a-92e38125a1fd button.colab-df-convert');\n",
              "        buttonEl.style.display =\n",
              "          google.colab.kernel.accessAllowed ? 'block' : 'none';\n",
              "\n",
              "        async function convertToInteractive(key) {\n",
              "          const element = document.querySelector('#df-93196775-2d0d-4ec9-b03a-92e38125a1fd');\n",
              "          const dataTable =\n",
              "            await google.colab.kernel.invokeFunction('convertToInteractive',\n",
              "                                                     [key], {});\n",
              "          if (!dataTable) return;\n",
              "\n",
              "          const docLinkHtml = 'Like what you see? Visit the ' +\n",
              "            '<a target=\"_blank\" href=https://colab.research.google.com/notebooks/data_table.ipynb>data table notebook</a>'\n",
              "            + ' to learn more about interactive tables.';\n",
              "          element.innerHTML = '';\n",
              "          dataTable['output_type'] = 'display_data';\n",
              "          await google.colab.output.renderOutput(dataTable, element);\n",
              "          const docLink = document.createElement('div');\n",
              "          docLink.innerHTML = docLinkHtml;\n",
              "          element.appendChild(docLink);\n",
              "        }\n",
              "      </script>\n",
              "    </div>\n",
              "  </div>\n",
              "  "
            ]
          },
          "metadata": {},
          "execution_count": 30
        }
      ]
    },
    {
      "cell_type": "markdown",
      "source": [
        "## create target variable"
      ],
      "metadata": {
        "id": "l4Lcva-g19Pw"
      }
    },
    {
      "cell_type": "code",
      "source": [
        "df_all['target'] = df_all.groupby('cfips')['microbusiness_density'].shift(-1)"
      ],
      "metadata": {
        "execution": {
          "iopub.status.busy": "2023-01-14T06:43:28.544960Z",
          "iopub.execute_input": "2023-01-14T06:43:28.545714Z",
          "iopub.status.idle": "2023-01-14T06:43:28.552832Z",
          "shell.execute_reply.started": "2023-01-14T06:43:28.545677Z",
          "shell.execute_reply": "2023-01-14T06:43:28.552157Z"
        },
        "trusted": true,
        "id": "2-Ob9mwvzb5o"
      },
      "execution_count": 31,
      "outputs": []
    },
    {
      "cell_type": "markdown",
      "source": [
        "- shift(-1) 하면 한 칸 씩 앞으로 올라가는 거 -> 미래의 값을 예측해야 하니까!"
      ],
      "metadata": {
        "id": "iAdaiHuv1vmc"
      }
    },
    {
      "cell_type": "markdown",
      "source": [
        "## create function to check the table at a glance"
      ],
      "metadata": {
        "id": "ekA8rRR-2BPs"
      }
    },
    {
      "cell_type": "code",
      "source": [
        "def summary(df):\n",
        "    print(f'data shape: {df.shape}')\n",
        "    summ = pd.DataFrame(df.dtypes, columns=['data type'])\n",
        "    summ['#missing'] = df.isnull().sum().values * 100\n",
        "    summ['%missing'] = df.isnull().sum().values / len(df)\n",
        "    summ['#unique'] = df.nunique().values\n",
        "    desc = pd.DataFrame(df.describe(include='all').transpose())\n",
        "    summ['min'] = desc['min'].values\n",
        "    summ['max'] = desc['max'].values\n",
        "    summ['first value'] = df.loc[0].values\n",
        "    summ['second value'] = df.loc[1].values\n",
        "    summ['third value'] = df.loc[2].values\n",
        "    \n",
        "    return summ"
      ],
      "metadata": {
        "execution": {
          "iopub.status.busy": "2023-01-16T13:38:04.281190Z",
          "iopub.execute_input": "2023-01-16T13:38:04.281711Z",
          "iopub.status.idle": "2023-01-16T13:38:04.316050Z",
          "shell.execute_reply.started": "2023-01-16T13:38:04.281596Z",
          "shell.execute_reply": "2023-01-16T13:38:04.314563Z"
        },
        "trusted": true,
        "id": "R4MiFahjzb5o"
      },
      "execution_count": 33,
      "outputs": []
    },
    {
      "cell_type": "code",
      "source": [
        "summary_table = summary(df_all)"
      ],
      "metadata": {
        "colab": {
          "base_uri": "https://localhost:8080/"
        },
        "id": "4h4aBf5Azb5o",
        "outputId": "f43e727a-8c62-4b3e-de12-da8597caa58f"
      },
      "execution_count": 34,
      "outputs": [
        {
          "output_type": "stream",
          "name": "stdout",
          "text": [
            "data shape: (147345, 28)\n"
          ]
        }
      ]
    },
    {
      "cell_type": "code",
      "source": [
        "# now you can check all variables at a glance.\n",
        "summary_table"
      ],
      "metadata": {
        "colab": {
          "base_uri": "https://localhost:8080/",
          "height": 1000
        },
        "id": "wi9gAgx62GrN",
        "outputId": "a09f1043-2d1f-4c81-aa8f-77063b59a615"
      },
      "execution_count": 35,
      "outputs": [
        {
          "output_type": "execute_result",
          "data": {
            "text/plain": [
              "                            data type  #missing  %missing  #unique       min  \\\n",
              "row_id                         object         0  0.000000   147345       NaN   \n",
              "cfips                           int64         0  0.000000     3135    1001.0   \n",
              "county                         object   2508000  0.170213     1871       NaN   \n",
              "state                          object   2508000  0.170213       51       NaN   \n",
              "first_day_of_month     datetime64[ns]         0  0.000000       47       NaN   \n",
              "microbusiness_density         float64   2508000  0.170213    97122       0.0   \n",
              "active                        float64   2508000  0.170213    19193       0.0   \n",
              "dataset                        object         0  0.000000        2       NaN   \n",
              "year                            int64         0  0.000000        5    2019.0   \n",
              "month                           int64         0  0.000000       12       1.0   \n",
              "pct_bb                        float64         0  0.000000      573      24.5   \n",
              "pct_college                   float64         0  0.000000      369       0.0   \n",
              "pct_foreign                   float64         0  0.000000      381       0.0   \n",
              "pct_workers                   float64      1200  0.000081       86       0.0   \n",
              "pct_inc                       float64      3000  0.000204    13028   17109.0   \n",
              "MA_3                          float64   3135000  0.212766   110087       0.0   \n",
              "MA_6                          float64   4075500  0.276596   104593       0.0   \n",
              "EMA_3                         float64       200  0.000014   122263       0.0   \n",
              "EMA_6                         float64       500  0.000034   122260   0.00008   \n",
              "pct_change_before             float64      3300  0.000224   108552      -1.0   \n",
              "lag_density_1                 float64   2194500  0.148936    97122       0.0   \n",
              "lag_density_2                 float64   1881000  0.127660    97122       0.0   \n",
              "lag_density_3                 float64   1567500  0.106383    97122       0.0   \n",
              "lag_density_4                 float64   1254000  0.085106    97122       0.0   \n",
              "lag_density_5                 float64    940500  0.063830    97122       0.0   \n",
              "national_avg                  float64   2508000  0.170213       39  3.635546   \n",
              "state_avg                     float64   2508000  0.170213     1989  1.556949   \n",
              "target                        float64   2821500  0.191489    94440       0.0   \n",
              "\n",
              "                              max          first value         second value  \\\n",
              "row_id                        NaN     10001_2019-08-01     10001_2019-09-01   \n",
              "cfips                     56045.0                10001                10001   \n",
              "county                        NaN          Kent County          Kent County   \n",
              "state                         NaN             Delaware             Delaware   \n",
              "first_day_of_month            NaN  2019-08-01 00:00:00  2019-09-01 00:00:00   \n",
              "microbusiness_density   284.34003             4.995701             5.031902   \n",
              "active                  1167744.0               6624.0               6672.0   \n",
              "dataset                       NaN                train                train   \n",
              "year                       2023.0                 2019                 2019   \n",
              "month                        12.0                    8                    9   \n",
              "pct_bb                       97.6                 80.8                 80.8   \n",
              "pct_college                  48.0                 14.5                 14.5   \n",
              "pct_foreign                  54.0                  6.0                  6.0   \n",
              "pct_workers                  17.4                  1.3                  1.3   \n",
              "pct_inc                  156821.0              57647.0              57647.0   \n",
              "MA_3                   219.644857                  NaN                  NaN   \n",
              "MA_6                   215.799362                  NaN                  NaN   \n",
              "EMA_3                  276.466557                  NaN                  NaN   \n",
              "EMA_6                  237.710807                  NaN                  NaN   \n",
              "pct_change_before             inf                  NaN                  NaN   \n",
              "lag_density_1           284.34003             4.995701             4.995701   \n",
              "lag_density_2           284.34003             4.995701             4.995701   \n",
              "lag_density_3           284.34003             4.995701             4.995701   \n",
              "lag_density_4           284.34003             4.995701             4.995701   \n",
              "lag_density_5           284.34003             4.995701             4.995701   \n",
              "national_avg             4.006963             3.749621             3.696846   \n",
              "state_avg               29.159282            10.094114            10.648283   \n",
              "target                  284.34003             5.031902              5.09827   \n",
              "\n",
              "                               third value  \n",
              "row_id                    10001_2019-10-01  \n",
              "cfips                                10001  \n",
              "county                         Kent County  \n",
              "state                             Delaware  \n",
              "first_day_of_month     2019-10-01 00:00:00  \n",
              "microbusiness_density              5.09827  \n",
              "active                              6760.0  \n",
              "dataset                              train  \n",
              "year                                  2019  \n",
              "month                                   10  \n",
              "pct_bb                                80.8  \n",
              "pct_college                           14.5  \n",
              "pct_foreign                            6.0  \n",
              "pct_workers                            1.3  \n",
              "pct_inc                            57647.0  \n",
              "MA_3                              5.041958  \n",
              "MA_6                                   NaN  \n",
              "EMA_3                             5.056036  \n",
              "EMA_6                                  NaN  \n",
              "pct_change_before                 0.007246  \n",
              "lag_density_1                     5.031902  \n",
              "lag_density_2                     4.995701  \n",
              "lag_density_3                     4.995701  \n",
              "lag_density_4                     4.995701  \n",
              "lag_density_5                     4.995701  \n",
              "national_avg                      3.778263  \n",
              "state_avg                        10.707502  \n",
              "target                            5.124666  "
            ],
            "text/html": [
              "\n",
              "  <div id=\"df-0e099863-168c-46dc-bf2d-569580c8b2b3\">\n",
              "    <div class=\"colab-df-container\">\n",
              "      <div>\n",
              "<style scoped>\n",
              "    .dataframe tbody tr th:only-of-type {\n",
              "        vertical-align: middle;\n",
              "    }\n",
              "\n",
              "    .dataframe tbody tr th {\n",
              "        vertical-align: top;\n",
              "    }\n",
              "\n",
              "    .dataframe thead th {\n",
              "        text-align: right;\n",
              "    }\n",
              "</style>\n",
              "<table border=\"1\" class=\"dataframe\">\n",
              "  <thead>\n",
              "    <tr style=\"text-align: right;\">\n",
              "      <th></th>\n",
              "      <th>data type</th>\n",
              "      <th>#missing</th>\n",
              "      <th>%missing</th>\n",
              "      <th>#unique</th>\n",
              "      <th>min</th>\n",
              "      <th>max</th>\n",
              "      <th>first value</th>\n",
              "      <th>second value</th>\n",
              "      <th>third value</th>\n",
              "    </tr>\n",
              "  </thead>\n",
              "  <tbody>\n",
              "    <tr>\n",
              "      <th>row_id</th>\n",
              "      <td>object</td>\n",
              "      <td>0</td>\n",
              "      <td>0.000000</td>\n",
              "      <td>147345</td>\n",
              "      <td>NaN</td>\n",
              "      <td>NaN</td>\n",
              "      <td>10001_2019-08-01</td>\n",
              "      <td>10001_2019-09-01</td>\n",
              "      <td>10001_2019-10-01</td>\n",
              "    </tr>\n",
              "    <tr>\n",
              "      <th>cfips</th>\n",
              "      <td>int64</td>\n",
              "      <td>0</td>\n",
              "      <td>0.000000</td>\n",
              "      <td>3135</td>\n",
              "      <td>1001.0</td>\n",
              "      <td>56045.0</td>\n",
              "      <td>10001</td>\n",
              "      <td>10001</td>\n",
              "      <td>10001</td>\n",
              "    </tr>\n",
              "    <tr>\n",
              "      <th>county</th>\n",
              "      <td>object</td>\n",
              "      <td>2508000</td>\n",
              "      <td>0.170213</td>\n",
              "      <td>1871</td>\n",
              "      <td>NaN</td>\n",
              "      <td>NaN</td>\n",
              "      <td>Kent County</td>\n",
              "      <td>Kent County</td>\n",
              "      <td>Kent County</td>\n",
              "    </tr>\n",
              "    <tr>\n",
              "      <th>state</th>\n",
              "      <td>object</td>\n",
              "      <td>2508000</td>\n",
              "      <td>0.170213</td>\n",
              "      <td>51</td>\n",
              "      <td>NaN</td>\n",
              "      <td>NaN</td>\n",
              "      <td>Delaware</td>\n",
              "      <td>Delaware</td>\n",
              "      <td>Delaware</td>\n",
              "    </tr>\n",
              "    <tr>\n",
              "      <th>first_day_of_month</th>\n",
              "      <td>datetime64[ns]</td>\n",
              "      <td>0</td>\n",
              "      <td>0.000000</td>\n",
              "      <td>47</td>\n",
              "      <td>NaN</td>\n",
              "      <td>NaN</td>\n",
              "      <td>2019-08-01 00:00:00</td>\n",
              "      <td>2019-09-01 00:00:00</td>\n",
              "      <td>2019-10-01 00:00:00</td>\n",
              "    </tr>\n",
              "    <tr>\n",
              "      <th>microbusiness_density</th>\n",
              "      <td>float64</td>\n",
              "      <td>2508000</td>\n",
              "      <td>0.170213</td>\n",
              "      <td>97122</td>\n",
              "      <td>0.0</td>\n",
              "      <td>284.34003</td>\n",
              "      <td>4.995701</td>\n",
              "      <td>5.031902</td>\n",
              "      <td>5.09827</td>\n",
              "    </tr>\n",
              "    <tr>\n",
              "      <th>active</th>\n",
              "      <td>float64</td>\n",
              "      <td>2508000</td>\n",
              "      <td>0.170213</td>\n",
              "      <td>19193</td>\n",
              "      <td>0.0</td>\n",
              "      <td>1167744.0</td>\n",
              "      <td>6624.0</td>\n",
              "      <td>6672.0</td>\n",
              "      <td>6760.0</td>\n",
              "    </tr>\n",
              "    <tr>\n",
              "      <th>dataset</th>\n",
              "      <td>object</td>\n",
              "      <td>0</td>\n",
              "      <td>0.000000</td>\n",
              "      <td>2</td>\n",
              "      <td>NaN</td>\n",
              "      <td>NaN</td>\n",
              "      <td>train</td>\n",
              "      <td>train</td>\n",
              "      <td>train</td>\n",
              "    </tr>\n",
              "    <tr>\n",
              "      <th>year</th>\n",
              "      <td>int64</td>\n",
              "      <td>0</td>\n",
              "      <td>0.000000</td>\n",
              "      <td>5</td>\n",
              "      <td>2019.0</td>\n",
              "      <td>2023.0</td>\n",
              "      <td>2019</td>\n",
              "      <td>2019</td>\n",
              "      <td>2019</td>\n",
              "    </tr>\n",
              "    <tr>\n",
              "      <th>month</th>\n",
              "      <td>int64</td>\n",
              "      <td>0</td>\n",
              "      <td>0.000000</td>\n",
              "      <td>12</td>\n",
              "      <td>1.0</td>\n",
              "      <td>12.0</td>\n",
              "      <td>8</td>\n",
              "      <td>9</td>\n",
              "      <td>10</td>\n",
              "    </tr>\n",
              "    <tr>\n",
              "      <th>pct_bb</th>\n",
              "      <td>float64</td>\n",
              "      <td>0</td>\n",
              "      <td>0.000000</td>\n",
              "      <td>573</td>\n",
              "      <td>24.5</td>\n",
              "      <td>97.6</td>\n",
              "      <td>80.8</td>\n",
              "      <td>80.8</td>\n",
              "      <td>80.8</td>\n",
              "    </tr>\n",
              "    <tr>\n",
              "      <th>pct_college</th>\n",
              "      <td>float64</td>\n",
              "      <td>0</td>\n",
              "      <td>0.000000</td>\n",
              "      <td>369</td>\n",
              "      <td>0.0</td>\n",
              "      <td>48.0</td>\n",
              "      <td>14.5</td>\n",
              "      <td>14.5</td>\n",
              "      <td>14.5</td>\n",
              "    </tr>\n",
              "    <tr>\n",
              "      <th>pct_foreign</th>\n",
              "      <td>float64</td>\n",
              "      <td>0</td>\n",
              "      <td>0.000000</td>\n",
              "      <td>381</td>\n",
              "      <td>0.0</td>\n",
              "      <td>54.0</td>\n",
              "      <td>6.0</td>\n",
              "      <td>6.0</td>\n",
              "      <td>6.0</td>\n",
              "    </tr>\n",
              "    <tr>\n",
              "      <th>pct_workers</th>\n",
              "      <td>float64</td>\n",
              "      <td>1200</td>\n",
              "      <td>0.000081</td>\n",
              "      <td>86</td>\n",
              "      <td>0.0</td>\n",
              "      <td>17.4</td>\n",
              "      <td>1.3</td>\n",
              "      <td>1.3</td>\n",
              "      <td>1.3</td>\n",
              "    </tr>\n",
              "    <tr>\n",
              "      <th>pct_inc</th>\n",
              "      <td>float64</td>\n",
              "      <td>3000</td>\n",
              "      <td>0.000204</td>\n",
              "      <td>13028</td>\n",
              "      <td>17109.0</td>\n",
              "      <td>156821.0</td>\n",
              "      <td>57647.0</td>\n",
              "      <td>57647.0</td>\n",
              "      <td>57647.0</td>\n",
              "    </tr>\n",
              "    <tr>\n",
              "      <th>MA_3</th>\n",
              "      <td>float64</td>\n",
              "      <td>3135000</td>\n",
              "      <td>0.212766</td>\n",
              "      <td>110087</td>\n",
              "      <td>0.0</td>\n",
              "      <td>219.644857</td>\n",
              "      <td>NaN</td>\n",
              "      <td>NaN</td>\n",
              "      <td>5.041958</td>\n",
              "    </tr>\n",
              "    <tr>\n",
              "      <th>MA_6</th>\n",
              "      <td>float64</td>\n",
              "      <td>4075500</td>\n",
              "      <td>0.276596</td>\n",
              "      <td>104593</td>\n",
              "      <td>0.0</td>\n",
              "      <td>215.799362</td>\n",
              "      <td>NaN</td>\n",
              "      <td>NaN</td>\n",
              "      <td>NaN</td>\n",
              "    </tr>\n",
              "    <tr>\n",
              "      <th>EMA_3</th>\n",
              "      <td>float64</td>\n",
              "      <td>200</td>\n",
              "      <td>0.000014</td>\n",
              "      <td>122263</td>\n",
              "      <td>0.0</td>\n",
              "      <td>276.466557</td>\n",
              "      <td>NaN</td>\n",
              "      <td>NaN</td>\n",
              "      <td>5.056036</td>\n",
              "    </tr>\n",
              "    <tr>\n",
              "      <th>EMA_6</th>\n",
              "      <td>float64</td>\n",
              "      <td>500</td>\n",
              "      <td>0.000034</td>\n",
              "      <td>122260</td>\n",
              "      <td>0.00008</td>\n",
              "      <td>237.710807</td>\n",
              "      <td>NaN</td>\n",
              "      <td>NaN</td>\n",
              "      <td>NaN</td>\n",
              "    </tr>\n",
              "    <tr>\n",
              "      <th>pct_change_before</th>\n",
              "      <td>float64</td>\n",
              "      <td>3300</td>\n",
              "      <td>0.000224</td>\n",
              "      <td>108552</td>\n",
              "      <td>-1.0</td>\n",
              "      <td>inf</td>\n",
              "      <td>NaN</td>\n",
              "      <td>NaN</td>\n",
              "      <td>0.007246</td>\n",
              "    </tr>\n",
              "    <tr>\n",
              "      <th>lag_density_1</th>\n",
              "      <td>float64</td>\n",
              "      <td>2194500</td>\n",
              "      <td>0.148936</td>\n",
              "      <td>97122</td>\n",
              "      <td>0.0</td>\n",
              "      <td>284.34003</td>\n",
              "      <td>4.995701</td>\n",
              "      <td>4.995701</td>\n",
              "      <td>5.031902</td>\n",
              "    </tr>\n",
              "    <tr>\n",
              "      <th>lag_density_2</th>\n",
              "      <td>float64</td>\n",
              "      <td>1881000</td>\n",
              "      <td>0.127660</td>\n",
              "      <td>97122</td>\n",
              "      <td>0.0</td>\n",
              "      <td>284.34003</td>\n",
              "      <td>4.995701</td>\n",
              "      <td>4.995701</td>\n",
              "      <td>4.995701</td>\n",
              "    </tr>\n",
              "    <tr>\n",
              "      <th>lag_density_3</th>\n",
              "      <td>float64</td>\n",
              "      <td>1567500</td>\n",
              "      <td>0.106383</td>\n",
              "      <td>97122</td>\n",
              "      <td>0.0</td>\n",
              "      <td>284.34003</td>\n",
              "      <td>4.995701</td>\n",
              "      <td>4.995701</td>\n",
              "      <td>4.995701</td>\n",
              "    </tr>\n",
              "    <tr>\n",
              "      <th>lag_density_4</th>\n",
              "      <td>float64</td>\n",
              "      <td>1254000</td>\n",
              "      <td>0.085106</td>\n",
              "      <td>97122</td>\n",
              "      <td>0.0</td>\n",
              "      <td>284.34003</td>\n",
              "      <td>4.995701</td>\n",
              "      <td>4.995701</td>\n",
              "      <td>4.995701</td>\n",
              "    </tr>\n",
              "    <tr>\n",
              "      <th>lag_density_5</th>\n",
              "      <td>float64</td>\n",
              "      <td>940500</td>\n",
              "      <td>0.063830</td>\n",
              "      <td>97122</td>\n",
              "      <td>0.0</td>\n",
              "      <td>284.34003</td>\n",
              "      <td>4.995701</td>\n",
              "      <td>4.995701</td>\n",
              "      <td>4.995701</td>\n",
              "    </tr>\n",
              "    <tr>\n",
              "      <th>national_avg</th>\n",
              "      <td>float64</td>\n",
              "      <td>2508000</td>\n",
              "      <td>0.170213</td>\n",
              "      <td>39</td>\n",
              "      <td>3.635546</td>\n",
              "      <td>4.006963</td>\n",
              "      <td>3.749621</td>\n",
              "      <td>3.696846</td>\n",
              "      <td>3.778263</td>\n",
              "    </tr>\n",
              "    <tr>\n",
              "      <th>state_avg</th>\n",
              "      <td>float64</td>\n",
              "      <td>2508000</td>\n",
              "      <td>0.170213</td>\n",
              "      <td>1989</td>\n",
              "      <td>1.556949</td>\n",
              "      <td>29.159282</td>\n",
              "      <td>10.094114</td>\n",
              "      <td>10.648283</td>\n",
              "      <td>10.707502</td>\n",
              "    </tr>\n",
              "    <tr>\n",
              "      <th>target</th>\n",
              "      <td>float64</td>\n",
              "      <td>2821500</td>\n",
              "      <td>0.191489</td>\n",
              "      <td>94440</td>\n",
              "      <td>0.0</td>\n",
              "      <td>284.34003</td>\n",
              "      <td>5.031902</td>\n",
              "      <td>5.09827</td>\n",
              "      <td>5.124666</td>\n",
              "    </tr>\n",
              "  </tbody>\n",
              "</table>\n",
              "</div>\n",
              "      <button class=\"colab-df-convert\" onclick=\"convertToInteractive('df-0e099863-168c-46dc-bf2d-569580c8b2b3')\"\n",
              "              title=\"Convert this dataframe to an interactive table.\"\n",
              "              style=\"display:none;\">\n",
              "        \n",
              "  <svg xmlns=\"http://www.w3.org/2000/svg\" height=\"24px\"viewBox=\"0 0 24 24\"\n",
              "       width=\"24px\">\n",
              "    <path d=\"M0 0h24v24H0V0z\" fill=\"none\"/>\n",
              "    <path d=\"M18.56 5.44l.94 2.06.94-2.06 2.06-.94-2.06-.94-.94-2.06-.94 2.06-2.06.94zm-11 1L8.5 8.5l.94-2.06 2.06-.94-2.06-.94L8.5 2.5l-.94 2.06-2.06.94zm10 10l.94 2.06.94-2.06 2.06-.94-2.06-.94-.94-2.06-.94 2.06-2.06.94z\"/><path d=\"M17.41 7.96l-1.37-1.37c-.4-.4-.92-.59-1.43-.59-.52 0-1.04.2-1.43.59L10.3 9.45l-7.72 7.72c-.78.78-.78 2.05 0 2.83L4 21.41c.39.39.9.59 1.41.59.51 0 1.02-.2 1.41-.59l7.78-7.78 2.81-2.81c.8-.78.8-2.07 0-2.86zM5.41 20L4 18.59l7.72-7.72 1.47 1.35L5.41 20z\"/>\n",
              "  </svg>\n",
              "      </button>\n",
              "      \n",
              "  <style>\n",
              "    .colab-df-container {\n",
              "      display:flex;\n",
              "      flex-wrap:wrap;\n",
              "      gap: 12px;\n",
              "    }\n",
              "\n",
              "    .colab-df-convert {\n",
              "      background-color: #E8F0FE;\n",
              "      border: none;\n",
              "      border-radius: 50%;\n",
              "      cursor: pointer;\n",
              "      display: none;\n",
              "      fill: #1967D2;\n",
              "      height: 32px;\n",
              "      padding: 0 0 0 0;\n",
              "      width: 32px;\n",
              "    }\n",
              "\n",
              "    .colab-df-convert:hover {\n",
              "      background-color: #E2EBFA;\n",
              "      box-shadow: 0px 1px 2px rgba(60, 64, 67, 0.3), 0px 1px 3px 1px rgba(60, 64, 67, 0.15);\n",
              "      fill: #174EA6;\n",
              "    }\n",
              "\n",
              "    [theme=dark] .colab-df-convert {\n",
              "      background-color: #3B4455;\n",
              "      fill: #D2E3FC;\n",
              "    }\n",
              "\n",
              "    [theme=dark] .colab-df-convert:hover {\n",
              "      background-color: #434B5C;\n",
              "      box-shadow: 0px 1px 3px 1px rgba(0, 0, 0, 0.15);\n",
              "      filter: drop-shadow(0px 1px 2px rgba(0, 0, 0, 0.3));\n",
              "      fill: #FFFFFF;\n",
              "    }\n",
              "  </style>\n",
              "\n",
              "      <script>\n",
              "        const buttonEl =\n",
              "          document.querySelector('#df-0e099863-168c-46dc-bf2d-569580c8b2b3 button.colab-df-convert');\n",
              "        buttonEl.style.display =\n",
              "          google.colab.kernel.accessAllowed ? 'block' : 'none';\n",
              "\n",
              "        async function convertToInteractive(key) {\n",
              "          const element = document.querySelector('#df-0e099863-168c-46dc-bf2d-569580c8b2b3');\n",
              "          const dataTable =\n",
              "            await google.colab.kernel.invokeFunction('convertToInteractive',\n",
              "                                                     [key], {});\n",
              "          if (!dataTable) return;\n",
              "\n",
              "          const docLinkHtml = 'Like what you see? Visit the ' +\n",
              "            '<a target=\"_blank\" href=https://colab.research.google.com/notebooks/data_table.ipynb>data table notebook</a>'\n",
              "            + ' to learn more about interactive tables.';\n",
              "          element.innerHTML = '';\n",
              "          dataTable['output_type'] = 'display_data';\n",
              "          await google.colab.output.renderOutput(dataTable, element);\n",
              "          const docLink = document.createElement('div');\n",
              "          docLink.innerHTML = docLinkHtml;\n",
              "          element.appendChild(docLink);\n",
              "        }\n",
              "      </script>\n",
              "    </div>\n",
              "  </div>\n",
              "  "
            ]
          },
          "metadata": {},
          "execution_count": 35
        }
      ]
    },
    {
      "cell_type": "markdown",
      "source": [
        "# Modeling"
      ],
      "metadata": {
        "id": "XCuDrKDJ2JiH"
      }
    },
    {
      "cell_type": "code",
      "source": [
        "# check columns\n",
        "df_all.columns"
      ],
      "metadata": {
        "colab": {
          "base_uri": "https://localhost:8080/"
        },
        "id": "1lpPhM9b2IYT",
        "outputId": "c1fc03c4-4c35-423d-c8b4-786ad93b109f"
      },
      "execution_count": 37,
      "outputs": [
        {
          "output_type": "execute_result",
          "data": {
            "text/plain": [
              "Index(['row_id', 'cfips', 'county', 'state', 'first_day_of_month',\n",
              "       'microbusiness_density', 'active', 'dataset', 'year', 'month', 'pct_bb',\n",
              "       'pct_college', 'pct_foreign', 'pct_workers', 'pct_inc', 'MA_3', 'MA_6',\n",
              "       'EMA_3', 'EMA_6', 'pct_change_before', 'lag_density_1', 'lag_density_2',\n",
              "       'lag_density_3', 'lag_density_4', 'lag_density_5', 'national_avg',\n",
              "       'state_avg', 'target'],\n",
              "      dtype='object')"
            ]
          },
          "metadata": {},
          "execution_count": 37
        }
      ]
    },
    {
      "cell_type": "markdown",
      "source": [
        "## let's choose one county as a sample and build a prediction model"
      ],
      "metadata": {
        "id": "-qTUSEZ646X3"
      }
    },
    {
      "cell_type": "code",
      "source": [
        "# choose one county \n",
        "sample = df_all[df_all['cfips']==9011]"
      ],
      "metadata": {
        "id": "ORQKLuS02Lcx"
      },
      "execution_count": 41,
      "outputs": []
    },
    {
      "cell_type": "code",
      "source": [
        "# choose train data only\n",
        "sample_train = sample[sample['dataset']=='train']"
      ],
      "metadata": {
        "id": "qaSAc9lX44-m"
      },
      "execution_count": 42,
      "outputs": []
    },
    {
      "cell_type": "code",
      "source": [
        "### split train X and Y\n",
        "train_X = sample_train[['year', 'month', 'pct_bb',\n",
        "       'pct_college', 'pct_foreign', 'pct_workers', 'pct_inc', 'MA_3', 'MA_6',\n",
        "       'EMA_3', 'EMA_6', 'lag_density_1', 'lag_density_2',\n",
        "       'lag_density_3', 'lag_density_4', 'lag_density_5', 'pct_change_before',\n",
        "       'national_avg', 'state_avg']]\n",
        "train_y = sample_train['target']"
      ],
      "metadata": {
        "id": "Ohe0jI5249iw"
      },
      "execution_count": 43,
      "outputs": []
    },
    {
      "cell_type": "code",
      "source": [
        "# fill na with 'bfill'\n",
        "train_X.fillna(method='bfill', inplace=True)"
      ],
      "metadata": {
        "id": "A0YoZr9n4_TR"
      },
      "execution_count": 44,
      "outputs": []
    },
    {
      "cell_type": "markdown",
      "source": [
        "## Time Series Split"
      ],
      "metadata": {
        "id": "Eu7TYNC45B5_"
      }
    },
    {
      "cell_type": "markdown",
      "source": [
        "### overview"
      ],
      "metadata": {
        "id": "1zvJW7hM5I_F"
      }
    },
    {
      "cell_type": "code",
      "source": [
        "# Function modified from https://scikit-learn.org/stable/modules/generated/sklearn.model_selection.TimeSeriesSplit.html\n",
        "from matplotlib.patches import Patch\n",
        "cmap_cv = plt.cm.seismic\n",
        "def plot_cv_indices(cv, n_splits, X, y, date_col = None):\n",
        "    \"\"\"Create a sample plot for indices of a cross-validation object.\"\"\"\n",
        "    \n",
        "    fig, ax = plt.subplots(1, 1, figsize = (11, 7))\n",
        "    \n",
        "    # Generate the training/testing visualizations for each CV split\n",
        "    for ii, (tr, tt) in enumerate(cv.split(X=X, y=y)):\n",
        "        # Fill in indices with the training/test groups\n",
        "        indices = np.array([np.nan] * len(X))\n",
        "        indices[tt] = 1\n",
        "        indices[tr] = 0\n",
        "\n",
        "        # Visualize the results\n",
        "        ax.scatter(range(len(indices)), [ii + .5] * len(indices),\n",
        "                   c=indices, marker='_', lw=10, cmap=cmap_cv,\n",
        "                   vmin=-.2, vmax=1.2)\n",
        "\n",
        "\n",
        "    # Formatting\n",
        "#     yticklabels = list(range(n_splits))\n",
        "    \n",
        "    if date_col is not None:\n",
        "        tick_locations  = ax.get_xticks()\n",
        "        tick_dates = [\" \"] + date_col.iloc[list(tick_locations[1:-1])].astype(str).tolist() + [\" \"]\n",
        "\n",
        "        tick_locations_str = [str(int(i)) for i in tick_locations]\n",
        "        new_labels = ['\\n\\n'.join(x) for x in zip(list(tick_locations_str), tick_dates) ]\n",
        "        ax.set_xticks(tick_locations)\n",
        "        ax.set_xticklabels(new_labels)\n",
        "    \n",
        "    ax.set(yticks=np.arange(n_splits+2) + .5,\n",
        "           xlabel='Sample index', ylabel=\"CV iteration\",\n",
        "           ylim=[n_splits+0.2, -.2])\n",
        "    ax.legend([Patch(color=cmap_cv(.8)), Patch(color=cmap_cv(.02))],\n",
        "              ['Testing set', 'Training set'], loc=(1.02, .8))\n",
        "    ax.set_title('{}'.format(type(cv).__name__), fontsize=15)"
      ],
      "metadata": {
        "id": "GpnHiI935BgZ"
      },
      "execution_count": 45,
      "outputs": []
    },
    {
      "cell_type": "code",
      "source": [
        "# time series split \n",
        "from sklearn.model_selection import KFold, ShuffleSplit, StratifiedKFold, StratifiedShuffleSplit, TimeSeriesSplit\n",
        "cvs = [KFold, ShuffleSplit, StratifiedKFold, StratifiedShuffleSplit, TimeSeriesSplit]\n",
        "n_points = 100\n",
        "n_splits = 8\n",
        "X = np.random.randn(100, 10)\n",
        "percentiles_classes = [.1, .3, .6]\n",
        "y = np.hstack([[ii] * int(100 * perc) for ii, perc in enumerate(percentiles_classes)])\n",
        "\n",
        "for i, cv in enumerate(cvs):\n",
        "    this_cv = cv(n_splits=n_splits)\n",
        "    plot_cv_indices(this_cv, n_splits, X, y, date_col=None)"
      ],
      "metadata": {
        "colab": {
          "base_uri": "https://localhost:8080/",
          "height": 1000
        },
        "id": "onc21Tzz5FTl",
        "outputId": "ac3eb41f-8bbe-4600-a26d-24830e338185"
      },
      "execution_count": 46,
      "outputs": [
        {
          "output_type": "display_data",
          "data": {
            "text/plain": [
              "<Figure size 792x504 with 1 Axes>"
            ],
            "image/png": "[encoded data removed]"
          },
          "metadata": {
            "needs_background": "light"
          }
        },
        {
          "output_type": "display_data",
          "data": {
            "text/plain": [
              "<Figure size 792x504 with 1 Axes>"
            ],
            "image/png": "[encoded data removed]"
          },
          "metadata": {
            "needs_background": "light"
          }
        },
        {
          "output_type": "display_data",
          "data": {
            "text/plain": [
              "<Figure size 792x504 with 1 Axes>"
            ],
            "image/png": "[encoded data removed]"
          },
          "metadata": {
            "needs_background": "light"
          }
        },
        {
          "output_type": "display_data",
          "data": {
            "text/plain": [
              "<Figure size 792x504 with 1 Axes>"
            ],
            "image/png": "[encoded data removed]"
          },
          "metadata": {
            "needs_background": "light"
          }
        },
        {
          "output_type": "display_data",
          "data": {
            "text/plain": [
              "<Figure size 792x504 with 1 Axes>"
            ],
            "image/png": "[encoded data removed]"
          },
          "metadata": {
            "needs_background": "light"
          }
        }
      ]
    },
    {
      "cell_type": "markdown",
      "source": [
        "- TimeSereisSplit 사용 안하는 것 : 미래 데이터 치팅 하는 거\n",
        "- data leakage 방지 위해서 TimeSeriesSplit 사용한다"
      ],
      "metadata": {
        "id": "8isDw-iA5Mtx"
      }
    },
    {
      "cell_type": "code",
      "source": [
        "from sklearn.model_selection import TimeSeriesSplit\n",
        "n_splits = 7\n",
        "tscv = TimeSeriesSplit(n_splits)"
      ],
      "metadata": {
        "id": "JtFP30dK5INp"
      },
      "execution_count": 47,
      "outputs": []
    },
    {
      "cell_type": "code",
      "source": [
        "# In our case, data point is 39, so it would be splited like below\n",
        "# (example taken from https://scikit-learn.org/stable/auto_examples/model_selection/plot_cv_indices.html#sphx-glr-auto-examples-model-selection-plot-cv-indices-py )\n",
        "\n",
        "for fold, (train_index, test_index) in enumerate(tscv.split(sample[sample['dataset']=='train'])):\n",
        "    print(\"Fold: {}\".format(fold))\n",
        "    print(\"TRAIN indices:\", train_index, \"\\n\", \"TEST indices:\", test_index)\n",
        "    print(\"\\n\")\n",
        "    X_train, X_test = train_X.iloc[train_index], train_X.iloc[test_index]\n",
        "    y_train, y_test = train_y.iloc[train_index], train_y.iloc[test_index]\n",
        "\n",
        "\n",
        "plot_cv_indices(tscv,n_splits, X, y)"
      ],
      "metadata": {
        "colab": {
          "base_uri": "https://localhost:8080/",
          "height": 1000
        },
        "id": "DASXfjxS5WST",
        "outputId": "64a1002c-f762-4865-bfda-faf8092a9c72"
      },
      "execution_count": 48,
      "outputs": [
        {
          "output_type": "stream",
          "name": "stdout",
          "text": [
            "Fold: 0\n",
            "TRAIN indices: [ 0  1  2  3  4  5  6  7  8  9 10] \n",
            " TEST indices: [11 12 13 14]\n",
            "\n",
            "\n",
            "Fold: 1\n",
            "TRAIN indices: [ 0  1  2  3  4  5  6  7  8  9 10 11 12 13 14] \n",
            " TEST indices: [15 16 17 18]\n",
            "\n",
            "\n",
            "Fold: 2\n",
            "TRAIN indices: [ 0  1  2  3  4  5  6  7  8  9 10 11 12 13 14 15 16 17 18] \n",
            " TEST indices: [19 20 21 22]\n",
            "\n",
            "\n",
            "Fold: 3\n",
            "TRAIN indices: [ 0  1  2  3  4  5  6  7  8  9 10 11 12 13 14 15 16 17 18 19 20 21 22] \n",
            " TEST indices: [23 24 25 26]\n",
            "\n",
            "\n",
            "Fold: 4\n",
            "TRAIN indices: [ 0  1  2  3  4  5  6  7  8  9 10 11 12 13 14 15 16 17 18 19 20 21 22 23\n",
            " 24 25 26] \n",
            " TEST indices: [27 28 29 30]\n",
            "\n",
            "\n",
            "Fold: 5\n",
            "TRAIN indices: [ 0  1  2  3  4  5  6  7  8  9 10 11 12 13 14 15 16 17 18 19 20 21 22 23\n",
            " 24 25 26 27 28 29 30] \n",
            " TEST indices: [31 32 33 34]\n",
            "\n",
            "\n",
            "Fold: 6\n",
            "TRAIN indices: [ 0  1  2  3  4  5  6  7  8  9 10 11 12 13 14 15 16 17 18 19 20 21 22 23\n",
            " 24 25 26 27 28 29 30 31 32 33 34] \n",
            " TEST indices: [35 36 37 38]\n",
            "\n",
            "\n"
          ]
        },
        {
          "output_type": "display_data",
          "data": {
            "text/plain": [
              "<Figure size 792x504 with 1 Axes>"
            ],
            "image/png": "[encoded data removed]"
          },
          "metadata": {
            "needs_background": "light"
          }
        }
      ]
    },
    {
      "cell_type": "markdown",
      "source": [
        "## create evaluation metrics\n",
        "\n",
        "![image.png](data:image/png;base64,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)"
      ],
      "metadata": {
        "id": "C-WR5vhG5Zos"
      }
    },
    {
      "cell_type": "code",
      "source": [
        "# create custom function\n",
        "def SMAPE(a, f):\n",
        "    return 1/len(a) * np.sum(2 * np.abs(f-a) / (np.abs(a) + np.abs(f))*100)"
      ],
      "metadata": {
        "id": "gp_aFpWb5Xm0"
      },
      "execution_count": 49,
      "outputs": []
    },
    {
      "cell_type": "code",
      "source": [
        "def smape_cv(model):\n",
        "    tscv = TimeSeriesSplit(n_splits=7)\n",
        "    smape_list = []\n",
        "    model_name = model.__class__.__name__\n",
        "    for _, (train_index, test_index) in tqdm(enumerate(tscv.split(train_X), start=1), \n",
        "                                             desc=f'{model_name} Cross Validations', total=7):\n",
        "        X_train, X_test = train_X.iloc[train_index], train_X.iloc[test_index]\n",
        "        y_train, y_test = train_y.iloc[train_index], train_y.iloc[test_index]\n",
        "        clf = model.fit(X_train, y_train)\n",
        "        pred = clf.predict(X_test)\n",
        "        smape = SMAPE(y_test, pred) \n",
        "        smape_list.append(smape)\n",
        "    return model_name, smape_list\n",
        "\n",
        "def print_smape_score(model):\n",
        "    # print cv and save the average\n",
        "    model_name, score = smape_cv(model)\n",
        "    for i, r in enumerate(score, start=1):\n",
        "        print(f'{i} FOLDS: {model_name} smape: {r:.4f}')\n",
        "    print(f'\\n{model_name} mean smape: {np.mean(score):.4f}')\n",
        "    print('='*30)\n",
        "    return model_name, np.mean(score)"
      ],
      "metadata": {
        "id": "pYBsfkcj5diK"
      },
      "execution_count": 50,
      "outputs": []
    },
    {
      "cell_type": "code",
      "source": [
        "reg = LinearRegression(n_jobs=-1)\n",
        "ridge = Ridge(alpha=0.8, random_state=1)\n",
        "lasso = Lasso(alpha = 0.01, random_state=1)\n",
        "Elastic = ElasticNet(alpha=0.03, l1_ratio=0.01, random_state=1)\n",
        "RF = RandomForestRegressor(n_estimators=500, criterion='mse', max_depth=5, min_samples_split=2,\n",
        "                           min_samples_leaf=2, random_state=1, n_jobs=-1)\n",
        "XGB = xgb.XGBRegressor(n_estimators=500, max_depth=5, min_child_weight=5, gamma=0.1, n_jobs=-1)\n",
        "LGBM = lgb.LGBMRegressor(n_estimators=500, max_depth=5, min_child_weight=5, n_jobs=-1)"
      ],
      "metadata": {
        "id": "4RHiBybo5qwu"
      },
      "execution_count": 51,
      "outputs": []
    },
    {
      "cell_type": "code",
      "source": [
        "models = []\n",
        "scores = []\n",
        "for model in [reg, ridge, lasso, Elastic, RF, XGB, LGBM]:\n",
        "    model_name, mean_score = print_smape_score(model)\n",
        "    models.append(model_name)\n",
        "    scores.append(mean_score)"
      ],
      "metadata": {
        "colab": {
          "base_uri": "https://localhost:8080/"
        },
        "id": "Zm1modCU5sGl",
        "outputId": "d4dc0214-a3d3-44e3-c8b6-3d7009cdd4a3"
      },
      "execution_count": 52,
      "outputs": [
        {
          "output_type": "stream",
          "name": "stderr",
          "text": [
            "LinearRegression Cross Validations: 100%|██████████| 7/7 [00:00<00:00, 107.57it/s]\n"
          ]
        },
        {
          "output_type": "stream",
          "name": "stdout",
          "text": [
            "1 FOLDS: LinearRegression smape: 1.2200\n",
            "2 FOLDS: LinearRegression smape: 1.7158\n",
            "3 FOLDS: LinearRegression smape: 1.4751\n",
            "4 FOLDS: LinearRegression smape: 1.9872\n",
            "5 FOLDS: LinearRegression smape: 0.7900\n",
            "6 FOLDS: LinearRegression smape: 1.0151\n",
            "7 FOLDS: LinearRegression smape: 0.4265\n",
            "\n",
            "LinearRegression mean smape: 1.2328\n",
            "==============================\n"
          ]
        },
        {
          "output_type": "stream",
          "name": "stderr",
          "text": [
            "Ridge Cross Validations: 100%|██████████| 7/7 [00:00<00:00, 174.21it/s]\n"
          ]
        },
        {
          "output_type": "stream",
          "name": "stdout",
          "text": [
            "1 FOLDS: Ridge smape: 0.3649\n",
            "2 FOLDS: Ridge smape: 1.6606\n",
            "3 FOLDS: Ridge smape: 0.5027\n",
            "4 FOLDS: Ridge smape: 0.3541\n",
            "5 FOLDS: Ridge smape: 0.4077\n",
            "6 FOLDS: Ridge smape: 0.7200\n",
            "7 FOLDS: Ridge smape: 0.2355\n",
            "\n",
            "Ridge mean smape: 0.6065\n",
            "==============================\n"
          ]
        },
        {
          "output_type": "stream",
          "name": "stderr",
          "text": [
            "Lasso Cross Validations: 100%|██████████| 7/7 [00:00<00:00, 155.66it/s]\n"
          ]
        },
        {
          "output_type": "stream",
          "name": "stdout",
          "text": [
            "1 FOLDS: Lasso smape: 0.4381\n",
            "2 FOLDS: Lasso smape: 1.5152\n",
            "3 FOLDS: Lasso smape: 0.3675\n",
            "4 FOLDS: Lasso smape: 0.2912\n",
            "5 FOLDS: Lasso smape: 0.3291\n",
            "6 FOLDS: Lasso smape: 0.6997\n",
            "7 FOLDS: Lasso smape: 0.2902\n",
            "\n",
            "Lasso mean smape: 0.5616\n",
            "==============================\n"
          ]
        },
        {
          "output_type": "stream",
          "name": "stderr",
          "text": [
            "ElasticNet Cross Validations: 100%|██████████| 7/7 [00:00<00:00, 116.20it/s]\n"
          ]
        },
        {
          "output_type": "stream",
          "name": "stdout",
          "text": [
            "1 FOLDS: ElasticNet smape: 0.3655\n",
            "2 FOLDS: ElasticNet smape: 1.6815\n",
            "3 FOLDS: ElasticNet smape: 0.4669\n",
            "4 FOLDS: ElasticNet smape: 0.3437\n",
            "5 FOLDS: ElasticNet smape: 0.3771\n",
            "6 FOLDS: ElasticNet smape: 0.7000\n",
            "7 FOLDS: ElasticNet smape: 0.2279\n",
            "\n",
            "ElasticNet mean smape: 0.5947\n",
            "==============================\n"
          ]
        },
        {
          "output_type": "stream",
          "name": "stderr",
          "text": [
            "RandomForestRegressor Cross Validations: 100%|██████████| 7/7 [00:06<00:00,  1.08it/s]\n"
          ]
        },
        {
          "output_type": "stream",
          "name": "stdout",
          "text": [
            "1 FOLDS: RandomForestRegressor smape: 2.5626\n",
            "2 FOLDS: RandomForestRegressor smape: 0.8338\n",
            "3 FOLDS: RandomForestRegressor smape: 0.3222\n",
            "4 FOLDS: RandomForestRegressor smape: 1.0865\n",
            "5 FOLDS: RandomForestRegressor smape: 1.0465\n",
            "6 FOLDS: RandomForestRegressor smape: 0.8154\n",
            "7 FOLDS: RandomForestRegressor smape: 1.1145\n",
            "\n",
            "RandomForestRegressor mean smape: 1.1116\n",
            "==============================\n"
          ]
        },
        {
          "output_type": "stream",
          "name": "stderr",
          "text": [
            "XGBRegressor Cross Validations:  14%|█▍        | 1/7 [00:00<00:00,  6.36it/s]"
          ]
        },
        {
          "output_type": "stream",
          "name": "stdout",
          "text": [
            "[14:07:55] WARNING: /workspace/src/objective/regression_obj.cu:152: reg:linear is now deprecated in favor of reg:squarederror.\n",
            "[14:07:55] WARNING: /workspace/src/objective/regression_obj.cu:152: reg:linear is now deprecated in favor of reg:squarederror.\n"
          ]
        },
        {
          "output_type": "stream",
          "name": "stderr",
          "text": [
            "XGBRegressor Cross Validations:  71%|███████▏  | 5/7 [00:00<00:00, 15.58it/s]"
          ]
        },
        {
          "output_type": "stream",
          "name": "stdout",
          "text": [
            "[14:07:55] WARNING: /workspace/src/objective/regression_obj.cu:152: reg:linear is now deprecated in favor of reg:squarederror.\n",
            "[14:07:55] WARNING: /workspace/src/objective/regression_obj.cu:152: reg:linear is now deprecated in favor of reg:squarederror.\n",
            "[14:07:55] WARNING: /workspace/src/objective/regression_obj.cu:152: reg:linear is now deprecated in favor of reg:squarederror.\n",
            "[14:07:55] WARNING: /workspace/src/objective/regression_obj.cu:152: reg:linear is now deprecated in favor of reg:squarederror.\n"
          ]
        },
        {
          "output_type": "stream",
          "name": "stderr",
          "text": [
            "XGBRegressor Cross Validations: 100%|██████████| 7/7 [00:00<00:00, 14.33it/s]\n"
          ]
        },
        {
          "output_type": "stream",
          "name": "stdout",
          "text": [
            "[14:07:55] WARNING: /workspace/src/objective/regression_obj.cu:152: reg:linear is now deprecated in favor of reg:squarederror.\n",
            "1 FOLDS: XGBRegressor smape: 2.7363\n",
            "2 FOLDS: XGBRegressor smape: 1.1781\n",
            "3 FOLDS: XGBRegressor smape: 2.0824\n",
            "4 FOLDS: XGBRegressor smape: 2.7210\n",
            "5 FOLDS: XGBRegressor smape: 3.2468\n",
            "6 FOLDS: XGBRegressor smape: 3.0323\n",
            "7 FOLDS: XGBRegressor smape: 2.6814\n",
            "\n",
            "XGBRegressor mean smape: 2.5255\n",
            "==============================\n"
          ]
        },
        {
          "output_type": "stream",
          "name": "stderr",
          "text": [
            "LGBMRegressor Cross Validations: 100%|██████████| 7/7 [00:00<00:00, 42.71it/s]"
          ]
        },
        {
          "output_type": "stream",
          "name": "stdout",
          "text": [
            "1 FOLDS: LGBMRegressor smape: 2.7382\n",
            "2 FOLDS: LGBMRegressor smape: 1.1800\n",
            "3 FOLDS: LGBMRegressor smape: 2.0843\n",
            "4 FOLDS: LGBMRegressor smape: 2.7230\n",
            "5 FOLDS: LGBMRegressor smape: 3.3584\n",
            "6 FOLDS: LGBMRegressor smape: 3.3670\n",
            "7 FOLDS: LGBMRegressor smape: 3.2984\n",
            "\n",
            "LGBMRegressor mean smape: 2.6785\n",
            "==============================\n"
          ]
        },
        {
          "output_type": "stream",
          "name": "stderr",
          "text": [
            "\n"
          ]
        }
      ]
    }
  ]
}